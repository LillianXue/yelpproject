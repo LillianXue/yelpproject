{
 "cells": [
  {
   "cell_type": "markdown",
   "metadata": {},
   "source": [
    "**Data Bootcamp Final Project** Fall 2018\n",
    "\n",
    "by: Lillian Xue, Francis Santos & Malika Dwarka\n",
    "\n",
    "Professor Benjamin Zweig"
   ]
  },
  {
   "cell_type": "markdown",
   "metadata": {},
   "source": [
    "# MANHATTAN RESTAURANT DISTRIBUTION ANALYSIS"
   ]
  },
  {
   "cell_type": "markdown",
   "metadata": {},
   "source": [
    "## **1. Introduction and Purpose of this Project**"
   ]
  },
  {
   "cell_type": "markdown",
   "metadata": {},
   "source": [
    "The purpose of this project is to understand the kinds of restaurants existing in certain parts of Manhattan, and assess whether potential relationships exist between these restaurants and the places they are situated in, such as price and income. \n",
    "\n",
    "This project will use two datasets: \n",
    "\n",
    "* Restaurant data in Manhattan, coming from the Yelp Fusion API. \n",
    "\n",
    "* Zip code data in Manhattan, coming from the NYC Census API. \n",
    "\n",
    "Using these two datasets, the project will attempt to answer the following questions: \n",
    "\n",
    "1) How are restaurants **distributed** across Manhattan?\n",
    "\n",
    "2) Where are restaurants located according to **price levels** in Manhattan?\n",
    "\n",
    "3) Does the price level of restaurants in certain areas in Manhattan correlate with **income levels**?\n",
    "\n",
    "\n",
    "\n",
    "\n"
   ]
  },
  {
   "cell_type": "markdown",
   "metadata": {},
   "source": [
    "## 2. Data Packages"
   ]
  },
  {
   "cell_type": "markdown",
   "metadata": {},
   "source": [
    "First, let us provide an outline on the things that we need: \n",
    "\n",
    "**(a) We first need to install and import several packages:**\n",
    "\n",
    "* `pandas` will serve as our main package for **datasets.**\n",
    "\n",
    "* `matplotlib.pyplot` is an important **visualization package.**\n",
    "\n",
    "* `numpy` is for **numerical functions.**\n",
    "\n",
    "* `requests` package is important for accessing the **NYC Open Data API.** \n",
    "\n",
    "* `census` is the package where we can extract the most-up-to-date **U.S. census data.** \n",
    "\n",
    "* `us` is a package that returns **census data** at a more **local level**. \n",
    "\n",
    "* `fiona` is a package required for mapping. \n",
    "\n",
    "* `geopandas` serves as our **primary mapping tool**. \n",
    "\n",
    "* `shapely.geometry` is useful for **mapping and plotting out shapes**. \n",
    "\n",
    "* `seaborn` will help in **regression plot visualization**. \n",
    "\n",
    "* `matplotlib.ticket` is for **axes unit formatting** on our plots.\n",
    "    \n",
    "    \n",
    "    \n",
    "    \n",
    "    \n",
    "    \n",
    "\n"
   ]
  },
  {
   "cell_type": "markdown",
   "metadata": {},
   "source": [
    "(b) We will also need to get **various API keys** for accessing our zip code data, and our restaurant data: \n",
    "\n",
    "\n",
    "* **Census API Key: https://api.census.gov/data/key_signup.html**\n",
    "\n",
    "* **Yelp Fusion API Key: https://www.yelp.com/developers/v3/manage_app**"
   ]
  },
  {
   "cell_type": "markdown",
   "metadata": {},
   "source": [
    "Next, we import these respective packages: "
   ]
  },
  {
   "cell_type": "code",
   "execution_count": 1,
   "metadata": {},
   "outputs": [],
   "source": [
    "#Import packages for dataframes, plotting, and display\n",
    "import pandas as pd\n",
    "pd.options.mode.chained_assignment = None\n",
    "import numpy as np\n",
    "import matplotlib.pyplot as plt\n",
    "import os\n",
    "from IPython.display import display, Image\n",
    "import csv \n",
    "\n",
    "#Import packages for NYC Open Data and census incomes\n",
    "import requests\n",
    "from census import Census\n",
    "from us import states\n",
    "\n",
    "#import mapping tools\n",
    "import fiona\n",
    "import geopandas as gpd\n",
    "from shapely.geometry import Point, Polygon\n",
    "import seaborn as sns\n",
    "import matplotlib.ticker as mtick"
   ]
  },
  {
   "cell_type": "markdown",
   "metadata": {},
   "source": [
    "## 3. Getting the NYC map shape"
   ]
  },
  {
   "cell_type": "markdown",
   "metadata": {},
   "source": [
    "To get the NYC map shape, we first need to obtain an API key to download census zip code data. In the code cell below, we have already downloaded the zipcode data, so we are just assigning a variable (`nyc_shape`) to the file path on our computer: "
   ]
  },
  {
   "cell_type": "code",
   "execution_count": 3,
   "metadata": {},
   "outputs": [],
   "source": [
    "#This is Lillian's census api key\n",
    "api_key = 'c29cf9b11dabb1eb5bda9c2a5ab077d75b9606ab'\n",
    "cwd = os.getcwd()\n",
    "nyc_shape = cwd + \"/Downloads/ZIP_CODE_040114/ZIP_CODE_040114.shx\""
   ]
  },
  {
   "cell_type": "code",
   "execution_count": 4,
   "metadata": {
    "scrolled": true
   },
   "outputs": [
    {
     "data": {
      "text/html": [
       "<div>\n",
       "<style scoped>\n",
       "    .dataframe tbody tr th:only-of-type {\n",
       "        vertical-align: middle;\n",
       "    }\n",
       "\n",
       "    .dataframe tbody tr th {\n",
       "        vertical-align: top;\n",
       "    }\n",
       "\n",
       "    .dataframe thead th {\n",
       "        text-align: right;\n",
       "    }\n",
       "</style>\n",
       "<table border=\"1\" class=\"dataframe\">\n",
       "  <thead>\n",
       "    <tr style=\"text-align: right;\">\n",
       "      <th></th>\n",
       "      <th>ZIPCODE</th>\n",
       "      <th>BLDGZIP</th>\n",
       "      <th>PO_NAME</th>\n",
       "      <th>POPULATION</th>\n",
       "      <th>AREA</th>\n",
       "      <th>STATE</th>\n",
       "      <th>COUNTY</th>\n",
       "      <th>ST_FIPS</th>\n",
       "      <th>CTY_FIPS</th>\n",
       "      <th>URL</th>\n",
       "      <th>SHAPE_AREA</th>\n",
       "      <th>SHAPE_LEN</th>\n",
       "      <th>geometry</th>\n",
       "    </tr>\n",
       "  </thead>\n",
       "  <tbody>\n",
       "    <tr>\n",
       "      <th>0</th>\n",
       "      <td>11436</td>\n",
       "      <td>0</td>\n",
       "      <td>Jamaica</td>\n",
       "      <td>18681.0</td>\n",
       "      <td>2.269930e+07</td>\n",
       "      <td>NY</td>\n",
       "      <td>Queens</td>\n",
       "      <td>36</td>\n",
       "      <td>081</td>\n",
       "      <td>http://www.usps.com/</td>\n",
       "      <td>0.0</td>\n",
       "      <td>0.0</td>\n",
       "      <td>POLYGON ((1038098.251871482 188138.3800067157,...</td>\n",
       "    </tr>\n",
       "    <tr>\n",
       "      <th>1</th>\n",
       "      <td>11213</td>\n",
       "      <td>0</td>\n",
       "      <td>Brooklyn</td>\n",
       "      <td>62426.0</td>\n",
       "      <td>2.963100e+07</td>\n",
       "      <td>NY</td>\n",
       "      <td>Kings</td>\n",
       "      <td>36</td>\n",
       "      <td>047</td>\n",
       "      <td>http://www.usps.com/</td>\n",
       "      <td>0.0</td>\n",
       "      <td>0.0</td>\n",
       "      <td>POLYGON ((1001613.712964058 186926.4395172149,...</td>\n",
       "    </tr>\n",
       "    <tr>\n",
       "      <th>2</th>\n",
       "      <td>11212</td>\n",
       "      <td>0</td>\n",
       "      <td>Brooklyn</td>\n",
       "      <td>83866.0</td>\n",
       "      <td>4.197210e+07</td>\n",
       "      <td>NY</td>\n",
       "      <td>Kings</td>\n",
       "      <td>36</td>\n",
       "      <td>047</td>\n",
       "      <td>http://www.usps.com/</td>\n",
       "      <td>0.0</td>\n",
       "      <td>0.0</td>\n",
       "      <td>POLYGON ((1011174.275535807 183696.33770971, 1...</td>\n",
       "    </tr>\n",
       "    <tr>\n",
       "      <th>3</th>\n",
       "      <td>11225</td>\n",
       "      <td>0</td>\n",
       "      <td>Brooklyn</td>\n",
       "      <td>56527.0</td>\n",
       "      <td>2.369863e+07</td>\n",
       "      <td>NY</td>\n",
       "      <td>Kings</td>\n",
       "      <td>36</td>\n",
       "      <td>047</td>\n",
       "      <td>http://www.usps.com/</td>\n",
       "      <td>0.0</td>\n",
       "      <td>0.0</td>\n",
       "      <td>POLYGON ((995908.3654508889 183617.6128015518,...</td>\n",
       "    </tr>\n",
       "    <tr>\n",
       "      <th>4</th>\n",
       "      <td>11218</td>\n",
       "      <td>0</td>\n",
       "      <td>Brooklyn</td>\n",
       "      <td>72280.0</td>\n",
       "      <td>3.686880e+07</td>\n",
       "      <td>NY</td>\n",
       "      <td>Kings</td>\n",
       "      <td>36</td>\n",
       "      <td>047</td>\n",
       "      <td>http://www.usps.com/</td>\n",
       "      <td>0.0</td>\n",
       "      <td>0.0</td>\n",
       "      <td>POLYGON ((991997.1134308875 176307.4958601296,...</td>\n",
       "    </tr>\n",
       "    <tr>\n",
       "      <th>5</th>\n",
       "      <td>11226</td>\n",
       "      <td>0</td>\n",
       "      <td>Brooklyn</td>\n",
       "      <td>106132.0</td>\n",
       "      <td>3.940860e+07</td>\n",
       "      <td>NY</td>\n",
       "      <td>Kings</td>\n",
       "      <td>36</td>\n",
       "      <td>047</td>\n",
       "      <td>http://www.usps.com/</td>\n",
       "      <td>0.0</td>\n",
       "      <td>0.0</td>\n",
       "      <td>POLYGON ((994821.4729396403 177865.7178093046,...</td>\n",
       "    </tr>\n",
       "    <tr>\n",
       "      <th>6</th>\n",
       "      <td>11219</td>\n",
       "      <td>0</td>\n",
       "      <td>Brooklyn</td>\n",
       "      <td>92561.0</td>\n",
       "      <td>4.200274e+07</td>\n",
       "      <td>NY</td>\n",
       "      <td>Kings</td>\n",
       "      <td>36</td>\n",
       "      <td>047</td>\n",
       "      <td>http://www.usps.com/</td>\n",
       "      <td>0.0</td>\n",
       "      <td>0.0</td>\n",
       "      <td>POLYGON ((987286.3515269756 173946.4621963799,...</td>\n",
       "    </tr>\n",
       "    <tr>\n",
       "      <th>7</th>\n",
       "      <td>11210</td>\n",
       "      <td>0</td>\n",
       "      <td>Brooklyn</td>\n",
       "      <td>67067.0</td>\n",
       "      <td>4.788702e+07</td>\n",
       "      <td>NY</td>\n",
       "      <td>Kings</td>\n",
       "      <td>36</td>\n",
       "      <td>047</td>\n",
       "      <td>http://www.usps.com/</td>\n",
       "      <td>0.0</td>\n",
       "      <td>0.0</td>\n",
       "      <td>POLYGON ((995796.0097044706 171110.0666224658,...</td>\n",
       "    </tr>\n",
       "    <tr>\n",
       "      <th>8</th>\n",
       "      <td>11230</td>\n",
       "      <td>0</td>\n",
       "      <td>Brooklyn</td>\n",
       "      <td>80857.0</td>\n",
       "      <td>4.992670e+07</td>\n",
       "      <td>NY</td>\n",
       "      <td>Kings</td>\n",
       "      <td>36</td>\n",
       "      <td>047</td>\n",
       "      <td>http://www.usps.com/</td>\n",
       "      <td>0.0</td>\n",
       "      <td>0.0</td>\n",
       "      <td>POLYGON ((994099.2959063053 171240.7064530551,...</td>\n",
       "    </tr>\n",
       "    <tr>\n",
       "      <th>9</th>\n",
       "      <td>11204</td>\n",
       "      <td>0</td>\n",
       "      <td>Brooklyn</td>\n",
       "      <td>77354.0</td>\n",
       "      <td>4.355518e+07</td>\n",
       "      <td>NY</td>\n",
       "      <td>Kings</td>\n",
       "      <td>36</td>\n",
       "      <td>047</td>\n",
       "      <td>http://www.usps.com/</td>\n",
       "      <td>0.0</td>\n",
       "      <td>0.0</td>\n",
       "      <td>POLYGON ((989500.1699339747 170730.1687602103,...</td>\n",
       "    </tr>\n",
       "  </tbody>\n",
       "</table>\n",
       "</div>"
      ],
      "text/plain": [
       "  ZIPCODE BLDGZIP   PO_NAME  POPULATION          AREA STATE  COUNTY ST_FIPS  \\\n",
       "0   11436       0   Jamaica     18681.0  2.269930e+07    NY  Queens      36   \n",
       "1   11213       0  Brooklyn     62426.0  2.963100e+07    NY   Kings      36   \n",
       "2   11212       0  Brooklyn     83866.0  4.197210e+07    NY   Kings      36   \n",
       "3   11225       0  Brooklyn     56527.0  2.369863e+07    NY   Kings      36   \n",
       "4   11218       0  Brooklyn     72280.0  3.686880e+07    NY   Kings      36   \n",
       "5   11226       0  Brooklyn    106132.0  3.940860e+07    NY   Kings      36   \n",
       "6   11219       0  Brooklyn     92561.0  4.200274e+07    NY   Kings      36   \n",
       "7   11210       0  Brooklyn     67067.0  4.788702e+07    NY   Kings      36   \n",
       "8   11230       0  Brooklyn     80857.0  4.992670e+07    NY   Kings      36   \n",
       "9   11204       0  Brooklyn     77354.0  4.355518e+07    NY   Kings      36   \n",
       "\n",
       "  CTY_FIPS                   URL  SHAPE_AREA  SHAPE_LEN  \\\n",
       "0      081  http://www.usps.com/         0.0        0.0   \n",
       "1      047  http://www.usps.com/         0.0        0.0   \n",
       "2      047  http://www.usps.com/         0.0        0.0   \n",
       "3      047  http://www.usps.com/         0.0        0.0   \n",
       "4      047  http://www.usps.com/         0.0        0.0   \n",
       "5      047  http://www.usps.com/         0.0        0.0   \n",
       "6      047  http://www.usps.com/         0.0        0.0   \n",
       "7      047  http://www.usps.com/         0.0        0.0   \n",
       "8      047  http://www.usps.com/         0.0        0.0   \n",
       "9      047  http://www.usps.com/         0.0        0.0   \n",
       "\n",
       "                                            geometry  \n",
       "0  POLYGON ((1038098.251871482 188138.3800067157,...  \n",
       "1  POLYGON ((1001613.712964058 186926.4395172149,...  \n",
       "2  POLYGON ((1011174.275535807 183696.33770971, 1...  \n",
       "3  POLYGON ((995908.3654508889 183617.6128015518,...  \n",
       "4  POLYGON ((991997.1134308875 176307.4958601296,...  \n",
       "5  POLYGON ((994821.4729396403 177865.7178093046,...  \n",
       "6  POLYGON ((987286.3515269756 173946.4621963799,...  \n",
       "7  POLYGON ((995796.0097044706 171110.0666224658,...  \n",
       "8  POLYGON ((994099.2959063053 171240.7064530551,...  \n",
       "9  POLYGON ((989500.1699339747 170730.1687602103,...  "
      ]
     },
     "execution_count": 4,
     "metadata": {},
     "output_type": "execute_result"
    }
   ],
   "source": [
    "nyc_map = gpd.read_file(nyc_shape)\n",
    "nyc_map.head(10)"
   ]
  },
  {
   "cell_type": "markdown",
   "metadata": {},
   "source": [
    "This is our initial zipcode dataframe. Notice that the \"PO_NAME\" column equates 'county'. 'New York' under PO_NAME refers to Manhattan."
   ]
  },
  {
   "cell_type": "markdown",
   "metadata": {},
   "source": [
    "As we said in our introduction, we **only** want to map out **Manhattan**, we are going to extract from this dataframe the zipcodes within Manhattan (which are under the PO_Name \"New York\"). We will do this using the `groupby` method:"
   ]
  },
  {
   "cell_type": "code",
   "execution_count": 5,
   "metadata": {},
   "outputs": [
    {
     "data": {
      "text/html": [
       "<div>\n",
       "<style scoped>\n",
       "    .dataframe tbody tr th:only-of-type {\n",
       "        vertical-align: middle;\n",
       "    }\n",
       "\n",
       "    .dataframe tbody tr th {\n",
       "        vertical-align: top;\n",
       "    }\n",
       "\n",
       "    .dataframe thead th {\n",
       "        text-align: right;\n",
       "    }\n",
       "</style>\n",
       "<table border=\"1\" class=\"dataframe\">\n",
       "  <thead>\n",
       "    <tr style=\"text-align: right;\">\n",
       "      <th></th>\n",
       "      <th>ZIPCODE</th>\n",
       "      <th>BLDGZIP</th>\n",
       "      <th>PO_NAME</th>\n",
       "      <th>POPULATION</th>\n",
       "      <th>AREA</th>\n",
       "      <th>STATE</th>\n",
       "      <th>COUNTY</th>\n",
       "      <th>ST_FIPS</th>\n",
       "      <th>CTY_FIPS</th>\n",
       "      <th>URL</th>\n",
       "      <th>SHAPE_AREA</th>\n",
       "      <th>SHAPE_LEN</th>\n",
       "      <th>geometry</th>\n",
       "    </tr>\n",
       "  </thead>\n",
       "  <tbody>\n",
       "    <tr>\n",
       "      <th>21</th>\n",
       "      <td>10034</td>\n",
       "      <td>0</td>\n",
       "      <td>New York</td>\n",
       "      <td>39149.0</td>\n",
       "      <td>2.450389e+07</td>\n",
       "      <td>NY</td>\n",
       "      <td>New York</td>\n",
       "      <td>36</td>\n",
       "      <td>061</td>\n",
       "      <td>http://www.usps.com/</td>\n",
       "      <td>0.0</td>\n",
       "      <td>0.0</td>\n",
       "      <td>POLYGON ((1006203.169008225 257345.6566181332,...</td>\n",
       "    </tr>\n",
       "    <tr>\n",
       "      <th>22</th>\n",
       "      <td>10033</td>\n",
       "      <td>0</td>\n",
       "      <td>New York</td>\n",
       "      <td>54284.0</td>\n",
       "      <td>1.615605e+07</td>\n",
       "      <td>NY</td>\n",
       "      <td>New York</td>\n",
       "      <td>36</td>\n",
       "      <td>061</td>\n",
       "      <td>http://www.usps.com/</td>\n",
       "      <td>0.0</td>\n",
       "      <td>0.0</td>\n",
       "      <td>POLYGON ((1003020.86467731 256049.1618358046, ...</td>\n",
       "    </tr>\n",
       "    <tr>\n",
       "      <th>24</th>\n",
       "      <td>10040</td>\n",
       "      <td>0</td>\n",
       "      <td>New York</td>\n",
       "      <td>41033.0</td>\n",
       "      <td>1.634074e+07</td>\n",
       "      <td>NY</td>\n",
       "      <td>New York</td>\n",
       "      <td>36</td>\n",
       "      <td>061</td>\n",
       "      <td>http://www.usps.com/</td>\n",
       "      <td>0.0</td>\n",
       "      <td>0.0</td>\n",
       "      <td>POLYGON ((1002564.135275811 253724.7731118798,...</td>\n",
       "    </tr>\n",
       "    <tr>\n",
       "      <th>32</th>\n",
       "      <td>10032</td>\n",
       "      <td>0</td>\n",
       "      <td>New York</td>\n",
       "      <td>57606.0</td>\n",
       "      <td>2.315957e+07</td>\n",
       "      <td>NY</td>\n",
       "      <td>New York</td>\n",
       "      <td>36</td>\n",
       "      <td>061</td>\n",
       "      <td>http://www.usps.com/</td>\n",
       "      <td>0.0</td>\n",
       "      <td>0.0</td>\n",
       "      <td>POLYGON ((998935.8528342247 249154.259943217, ...</td>\n",
       "    </tr>\n",
       "    <tr>\n",
       "      <th>36</th>\n",
       "      <td>10031</td>\n",
       "      <td>0</td>\n",
       "      <td>New York</td>\n",
       "      <td>57010.0</td>\n",
       "      <td>1.690215e+07</td>\n",
       "      <td>NY</td>\n",
       "      <td>New York</td>\n",
       "      <td>36</td>\n",
       "      <td>061</td>\n",
       "      <td>http://www.usps.com/</td>\n",
       "      <td>0.0</td>\n",
       "      <td>0.0</td>\n",
       "      <td>POLYGON ((1000830.038678393 241801.5896092206,...</td>\n",
       "    </tr>\n",
       "    <tr>\n",
       "      <th>37</th>\n",
       "      <td>10039</td>\n",
       "      <td>0</td>\n",
       "      <td>New York</td>\n",
       "      <td>24234.0</td>\n",
       "      <td>8.419028e+06</td>\n",
       "      <td>NY</td>\n",
       "      <td>New York</td>\n",
       "      <td>36</td>\n",
       "      <td>061</td>\n",
       "      <td>http://www.usps.com/</td>\n",
       "      <td>0.0</td>\n",
       "      <td>0.0</td>\n",
       "      <td>POLYGON ((1002403.660203055 243899.2081173807,...</td>\n",
       "    </tr>\n",
       "    <tr>\n",
       "      <th>41</th>\n",
       "      <td>10030</td>\n",
       "      <td>0</td>\n",
       "      <td>New York</td>\n",
       "      <td>26720.0</td>\n",
       "      <td>7.757661e+06</td>\n",
       "      <td>NY</td>\n",
       "      <td>New York</td>\n",
       "      <td>36</td>\n",
       "      <td>061</td>\n",
       "      <td>http://www.usps.com/</td>\n",
       "      <td>0.0</td>\n",
       "      <td>0.0</td>\n",
       "      <td>POLYGON ((1001899.622497231 238190.4104798883,...</td>\n",
       "    </tr>\n",
       "    <tr>\n",
       "      <th>42</th>\n",
       "      <td>10027</td>\n",
       "      <td>0</td>\n",
       "      <td>New York</td>\n",
       "      <td>58639.0</td>\n",
       "      <td>2.469528e+07</td>\n",
       "      <td>NY</td>\n",
       "      <td>New York</td>\n",
       "      <td>36</td>\n",
       "      <td>061</td>\n",
       "      <td>http://www.usps.com/</td>\n",
       "      <td>0.0</td>\n",
       "      <td>0.0</td>\n",
       "      <td>POLYGON ((998641.2454838157 236978.8715643883,...</td>\n",
       "    </tr>\n",
       "    <tr>\n",
       "      <th>45</th>\n",
       "      <td>10037</td>\n",
       "      <td>0</td>\n",
       "      <td>New York</td>\n",
       "      <td>16931.0</td>\n",
       "      <td>7.188981e+06</td>\n",
       "      <td>NY</td>\n",
       "      <td>New York</td>\n",
       "      <td>36</td>\n",
       "      <td>061</td>\n",
       "      <td>http://www.usps.com/</td>\n",
       "      <td>0.0</td>\n",
       "      <td>0.0</td>\n",
       "      <td>POLYGON ((1002566.673984647 237849.7907543033,...</td>\n",
       "    </tr>\n",
       "    <tr>\n",
       "      <th>46</th>\n",
       "      <td>10024</td>\n",
       "      <td>0</td>\n",
       "      <td>New York</td>\n",
       "      <td>58521.0</td>\n",
       "      <td>2.287734e+07</td>\n",
       "      <td>NY</td>\n",
       "      <td>New York</td>\n",
       "      <td>36</td>\n",
       "      <td>061</td>\n",
       "      <td>http://www.usps.com/</td>\n",
       "      <td>0.0</td>\n",
       "      <td>0.0</td>\n",
       "      <td>POLYGON ((994210.0381388962 234868.6605617106,...</td>\n",
       "    </tr>\n",
       "  </tbody>\n",
       "</table>\n",
       "</div>"
      ],
      "text/plain": [
       "   ZIPCODE BLDGZIP   PO_NAME  POPULATION          AREA STATE    COUNTY  \\\n",
       "21   10034       0  New York     39149.0  2.450389e+07    NY  New York   \n",
       "22   10033       0  New York     54284.0  1.615605e+07    NY  New York   \n",
       "24   10040       0  New York     41033.0  1.634074e+07    NY  New York   \n",
       "32   10032       0  New York     57606.0  2.315957e+07    NY  New York   \n",
       "36   10031       0  New York     57010.0  1.690215e+07    NY  New York   \n",
       "37   10039       0  New York     24234.0  8.419028e+06    NY  New York   \n",
       "41   10030       0  New York     26720.0  7.757661e+06    NY  New York   \n",
       "42   10027       0  New York     58639.0  2.469528e+07    NY  New York   \n",
       "45   10037       0  New York     16931.0  7.188981e+06    NY  New York   \n",
       "46   10024       0  New York     58521.0  2.287734e+07    NY  New York   \n",
       "\n",
       "   ST_FIPS CTY_FIPS                   URL  SHAPE_AREA  SHAPE_LEN  \\\n",
       "21      36      061  http://www.usps.com/         0.0        0.0   \n",
       "22      36      061  http://www.usps.com/         0.0        0.0   \n",
       "24      36      061  http://www.usps.com/         0.0        0.0   \n",
       "32      36      061  http://www.usps.com/         0.0        0.0   \n",
       "36      36      061  http://www.usps.com/         0.0        0.0   \n",
       "37      36      061  http://www.usps.com/         0.0        0.0   \n",
       "41      36      061  http://www.usps.com/         0.0        0.0   \n",
       "42      36      061  http://www.usps.com/         0.0        0.0   \n",
       "45      36      061  http://www.usps.com/         0.0        0.0   \n",
       "46      36      061  http://www.usps.com/         0.0        0.0   \n",
       "\n",
       "                                             geometry  \n",
       "21  POLYGON ((1006203.169008225 257345.6566181332,...  \n",
       "22  POLYGON ((1003020.86467731 256049.1618358046, ...  \n",
       "24  POLYGON ((1002564.135275811 253724.7731118798,...  \n",
       "32  POLYGON ((998935.8528342247 249154.259943217, ...  \n",
       "36  POLYGON ((1000830.038678393 241801.5896092206,...  \n",
       "37  POLYGON ((1002403.660203055 243899.2081173807,...  \n",
       "41  POLYGON ((1001899.622497231 238190.4104798883,...  \n",
       "42  POLYGON ((998641.2454838157 236978.8715643883,...  \n",
       "45  POLYGON ((1002566.673984647 237849.7907543033,...  \n",
       "46  POLYGON ((994210.0381388962 234868.6605617106,...  "
      ]
     },
     "execution_count": 5,
     "metadata": {},
     "output_type": "execute_result"
    }
   ],
   "source": [
    "#We want to map out only Manhattan\n",
    "boroughs = nyc_map.groupby([\"PO_NAME\"])\n",
    "#Let's create a Manhattan map called mmap\n",
    "mmap = boroughs.get_group(\"New York\")\n",
    "mmap.head(10)"
   ]
  },
  {
   "cell_type": "markdown",
   "metadata": {},
   "source": [
    "Next, we will convert zip codes to integers so we get a list:"
   ]
  },
  {
   "cell_type": "code",
   "execution_count": 6,
   "metadata": {},
   "outputs": [],
   "source": [
    "#Convert zip codes to integers for joining datasets later\n",
    "mmap.ZIPCODE = nyc_map.ZIPCODE.astype(int)\n",
    "\n",
    "#Now we create a list of zipcodes in manhattan in a dataset called mzips\n",
    "mzips = mmap.ZIPCODE.tolist()\n",
    "mzips = \"\".join(str(mzips))\n",
    "mzips = mzips[1:-1]\n",
    "mmap.rename(columns={\"ZIPCODE\": \"Zip Code\"}, inplace=True)"
   ]
  },
  {
   "cell_type": "markdown",
   "metadata": {},
   "source": [
    "\n",
    "The next step is for us to do is **setting up the income dataset**. What we mean by the income dataset is that we are trying to find the **median incomes** for each respective zip code. \n",
    "\n",
    "* In executing this code, we made reference to **this link:** **https://github.com/datamade/census**\n"
   ]
  },
  {
   "cell_type": "code",
   "execution_count": 7,
   "metadata": {},
   "outputs": [],
   "source": [
    "#We need to use the following variables for median income data for each zip code\n",
    "code = (\"NAME\",\"B19013_001E\") \n",
    "    \n",
    "#Using Lillian's API key for Census\n",
    "c = Census(\"c29cf9b11dabb1eb5bda9c2a5ab077d75b9606ab\")\n",
    "\n",
    "#We will use the up-to-date 2016 median income data from census\n",
    "manhattan_income = pd.DataFrame(c.acs5.get(\n",
    "    code, {'for': 'zip code tabulation area:' + mzips }, year=2016))\n",
    "\n",
    "#rename coded income name\n",
    "manhattan_income.rename(columns={\"B19013_001E\": \"Income\"}, inplace=True)\n",
    "\n",
    "#Some of the zip codes with negative income figures are P.O. zip codes\n",
    "manhattan_income = manhattan_income[manhattan_income > 0].dropna()\n",
    "\n",
    "#Drop and reformat as needed\n",
    "manhattan_income.drop(['NAME'], axis=1, inplace = True)\n",
    "manhattan_income.columns = ['Income', 'Zip Code']\n",
    "\n",
    "#Match the zip code integer type\n",
    "manhattan_income['Zip Code'] = manhattan_income['Zip Code'].astype(int)"
   ]
  },
  {
   "cell_type": "markdown",
   "metadata": {},
   "source": [
    "## 4. Generating a DataFrame from income data"
   ]
  },
  {
   "cell_type": "markdown",
   "metadata": {},
   "source": [
    "After setting up the income dataset, we then need to **merge** this income dataset to the current GeoDataFrame we generated in the previous part, where the zipcode data exists. \n",
    "\n",
    "Once done, we will then create a new GeoDataFrame called `mgeo`, which we will use for the remainder for the project.\n",
    "\n",
    "This is what the subsequent code cell does: "
   ]
  },
  {
   "cell_type": "code",
   "execution_count": 8,
   "metadata": {
    "scrolled": true
   },
   "outputs": [
    {
     "data": {
      "text/html": [
       "<div>\n",
       "<style scoped>\n",
       "    .dataframe tbody tr th:only-of-type {\n",
       "        vertical-align: middle;\n",
       "    }\n",
       "\n",
       "    .dataframe tbody tr th {\n",
       "        vertical-align: top;\n",
       "    }\n",
       "\n",
       "    .dataframe thead th {\n",
       "        text-align: right;\n",
       "    }\n",
       "</style>\n",
       "<table border=\"1\" class=\"dataframe\">\n",
       "  <thead>\n",
       "    <tr style=\"text-align: right;\">\n",
       "      <th></th>\n",
       "      <th>Zip Code</th>\n",
       "      <th>Income</th>\n",
       "      <th>geometry</th>\n",
       "    </tr>\n",
       "  </thead>\n",
       "  <tbody>\n",
       "    <tr>\n",
       "      <th>0</th>\n",
       "      <td>10034</td>\n",
       "      <td>45643.0</td>\n",
       "      <td>POLYGON ((1006203.169008225 257345.6566181332,...</td>\n",
       "    </tr>\n",
       "    <tr>\n",
       "      <th>1</th>\n",
       "      <td>10033</td>\n",
       "      <td>46349.0</td>\n",
       "      <td>POLYGON ((1003020.86467731 256049.1618358046, ...</td>\n",
       "    </tr>\n",
       "    <tr>\n",
       "      <th>2</th>\n",
       "      <td>10040</td>\n",
       "      <td>45811.0</td>\n",
       "      <td>POLYGON ((1002564.135275811 253724.7731118798,...</td>\n",
       "    </tr>\n",
       "    <tr>\n",
       "      <th>3</th>\n",
       "      <td>10032</td>\n",
       "      <td>40054.0</td>\n",
       "      <td>POLYGON ((998935.8528342247 249154.259943217, ...</td>\n",
       "    </tr>\n",
       "    <tr>\n",
       "      <th>4</th>\n",
       "      <td>10031</td>\n",
       "      <td>41848.0</td>\n",
       "      <td>POLYGON ((1000830.038678393 241801.5896092206,...</td>\n",
       "    </tr>\n",
       "  </tbody>\n",
       "</table>\n",
       "</div>"
      ],
      "text/plain": [
       "   Zip Code   Income                                           geometry\n",
       "0     10034  45643.0  POLYGON ((1006203.169008225 257345.6566181332,...\n",
       "1     10033  46349.0  POLYGON ((1003020.86467731 256049.1618358046, ...\n",
       "2     10040  45811.0  POLYGON ((1002564.135275811 253724.7731118798,...\n",
       "3     10032  40054.0  POLYGON ((998935.8528342247 249154.259943217, ...\n",
       "4     10031  41848.0  POLYGON ((1000830.038678393 241801.5896092206,..."
      ]
     },
     "execution_count": 8,
     "metadata": {},
     "output_type": "execute_result"
    }
   ],
   "source": [
    "#Need to make zip codes from the yelp dataset into integers to merge a new dataframe later\n",
    "#Bring income onto the current GeoDataFrame\n",
    "mmap = mmap.merge(manhattan_income[['Zip Code','Income']], on = ['Zip Code'])\n",
    "\n",
    "#Create new GeoDataFrame to be used throughout the remainder of the project\n",
    "mgeo = mmap[['Zip Code','Income','geometry']]\n",
    "\n",
    "#Zip code 10162 is a P.O. zip code that erroneously has an income value\n",
    "mgeo = mgeo[mgeo['Zip Code'].map(abs) != 10162]\n",
    "\n",
    "mgeo.head(5)"
   ]
  },
  {
   "cell_type": "markdown",
   "metadata": {},
   "source": [
    "## 5. Visualizing zip codes by income"
   ]
  },
  {
   "cell_type": "markdown",
   "metadata": {},
   "source": [
    "Using this new GeoDataFrame, we will test and see if we can visualize the data into a map, via `matplotlib.pyplot` or `plt`. "
   ]
  },
  {
   "cell_type": "code",
   "execution_count": 9,
   "metadata": {},
   "outputs": [
    {
     "data": {
      "image/png": "[encoded data removed]",
      "text/plain": [
       "<Figure size 360x504 with 1 Axes>"
      ]
     },
     "metadata": {},
     "output_type": "display_data"
    }
   ],
   "source": [
    "#Create one figure for plotting\n",
    "fig, ax = plt.subplots(figsize = (5,7))\n",
    "\n",
    "mgeo.plot(ax = ax, column='Income', edgecolor='black', cmap='Reds', alpha = 0.8)\n",
    "\n",
    "#Presentation edits\n",
    "ax.get_xaxis().set_visible(False)\n",
    "ax.get_yaxis().set_visible(False)\n",
    "ax.set_title('Zip Codes by Income')\n",
    "ax.title.set_size(12)\n",
    "\n",
    "plt.show()"
   ]
  },
  {
   "cell_type": "markdown",
   "metadata": {},
   "source": [
    "This map demonstrates the varying degrees of median income levels for every respective zip code in Manhattan. \n",
    "\n",
    "Darker shades of red represent higher levels of median income. "
   ]
  },
  {
   "cell_type": "markdown",
   "metadata": {},
   "source": [
    "## 6. Creating a DataFrame to indicate restaurant price distribution"
   ]
  },
  {
   "cell_type": "markdown",
   "metadata": {},
   "source": [
    "The next step for us is to extract the **restaurant data** from the **Yelp Fusion API**, and then to construct a DataFrame out of it.\n",
    "\n",
    "For the purpose of proper flow and organization of this report, the long process of how we used the API key to extract Yelp API data, and how we cleaned up the data, is not shown in this section. It is shown, instead in the **Appendix** section of this report.\n",
    "\n",
    "For the sake of simplicity, we simply exported a csv file for the final version of our Yelp restaurant data, and imported it again on this notebook for our project. \n",
    "\n",
    "This is shown in the code cell below: "
   ]
  },
  {
   "cell_type": "code",
   "execution_count": 10,
   "metadata": {},
   "outputs": [
    {
     "data": {
      "text/plain": [
       "(3428, 18)"
      ]
     },
     "execution_count": 10,
     "metadata": {},
     "output_type": "execute_result"
    }
   ],
   "source": [
    "#Read in csv file\n",
    "yelp = pd.read_csv('file:///Users/Lillian/Downloads/project_v2.csv', encoding = \"latin1\")\n",
    "\n",
    "#Turn it into a Dataframe\n",
    "yelp1 = pd.DataFrame(yelp)\n",
    "yelp1.shape"
   ]
  },
  {
   "cell_type": "markdown",
   "metadata": {},
   "source": [
    "From these 3,428 datapoints, some of them have null values. To fully clean up our dataframe, we use the **`dropna` method:**"
   ]
  },
  {
   "cell_type": "code",
   "execution_count": 11,
   "metadata": {
    "scrolled": true
   },
   "outputs": [
    {
     "data": {
      "text/plain": [
       "(3377, 18)"
      ]
     },
     "execution_count": 11,
     "metadata": {},
     "output_type": "execute_result"
    }
   ],
   "source": [
    "#Cleaning up the rows\n",
    "yelp1 = yelp1.dropna()\n",
    "yelp1.shape"
   ]
  },
  {
   "cell_type": "markdown",
   "metadata": {},
   "source": [
    "Next, we try to group all the zip codes in the DataFrame together for convenience: "
   ]
  },
  {
   "cell_type": "code",
   "execution_count": 12,
   "metadata": {
    "scrolled": false
   },
   "outputs": [
    {
     "data": {
      "text/html": [
       "<div>\n",
       "<style scoped>\n",
       "    .dataframe tbody tr th:only-of-type {\n",
       "        vertical-align: middle;\n",
       "    }\n",
       "\n",
       "    .dataframe tbody tr th {\n",
       "        vertical-align: top;\n",
       "    }\n",
       "\n",
       "    .dataframe thead th {\n",
       "        text-align: right;\n",
       "    }\n",
       "</style>\n",
       "<table border=\"1\" class=\"dataframe\">\n",
       "  <thead>\n",
       "    <tr style=\"text-align: right;\">\n",
       "      <th></th>\n",
       "      <th></th>\n",
       "      <th>alias</th>\n",
       "      <th>categories</th>\n",
       "      <th>display_phone</th>\n",
       "      <th>distance</th>\n",
       "      <th>id</th>\n",
       "      <th>image_url</th>\n",
       "      <th>is_closed</th>\n",
       "      <th>location</th>\n",
       "      <th>name</th>\n",
       "      <th>phone</th>\n",
       "      <th>rating</th>\n",
       "      <th>review_count</th>\n",
       "      <th>transactions</th>\n",
       "      <th>url</th>\n",
       "      <th>latitude</th>\n",
       "      <th>longitude</th>\n",
       "    </tr>\n",
       "    <tr>\n",
       "      <th>zip_code</th>\n",
       "      <th>price</th>\n",
       "      <th></th>\n",
       "      <th></th>\n",
       "      <th></th>\n",
       "      <th></th>\n",
       "      <th></th>\n",
       "      <th></th>\n",
       "      <th></th>\n",
       "      <th></th>\n",
       "      <th></th>\n",
       "      <th></th>\n",
       "      <th></th>\n",
       "      <th></th>\n",
       "      <th></th>\n",
       "      <th></th>\n",
       "      <th></th>\n",
       "      <th></th>\n",
       "    </tr>\n",
       "  </thead>\n",
       "  <tbody>\n",
       "    <tr>\n",
       "      <th rowspan=\"3\" valign=\"top\">10001.0</th>\n",
       "      <th>$</th>\n",
       "      <td>7</td>\n",
       "      <td>7</td>\n",
       "      <td>7</td>\n",
       "      <td>7</td>\n",
       "      <td>7</td>\n",
       "      <td>7</td>\n",
       "      <td>7</td>\n",
       "      <td>7</td>\n",
       "      <td>7</td>\n",
       "      <td>7</td>\n",
       "      <td>7</td>\n",
       "      <td>7</td>\n",
       "      <td>7</td>\n",
       "      <td>7</td>\n",
       "      <td>7</td>\n",
       "      <td>7</td>\n",
       "    </tr>\n",
       "    <tr>\n",
       "      <th>$$</th>\n",
       "      <td>28</td>\n",
       "      <td>28</td>\n",
       "      <td>28</td>\n",
       "      <td>28</td>\n",
       "      <td>28</td>\n",
       "      <td>28</td>\n",
       "      <td>28</td>\n",
       "      <td>28</td>\n",
       "      <td>28</td>\n",
       "      <td>28</td>\n",
       "      <td>28</td>\n",
       "      <td>28</td>\n",
       "      <td>28</td>\n",
       "      <td>28</td>\n",
       "      <td>28</td>\n",
       "      <td>28</td>\n",
       "    </tr>\n",
       "    <tr>\n",
       "      <th>$$$</th>\n",
       "      <td>5</td>\n",
       "      <td>5</td>\n",
       "      <td>5</td>\n",
       "      <td>5</td>\n",
       "      <td>5</td>\n",
       "      <td>5</td>\n",
       "      <td>5</td>\n",
       "      <td>5</td>\n",
       "      <td>5</td>\n",
       "      <td>5</td>\n",
       "      <td>5</td>\n",
       "      <td>5</td>\n",
       "      <td>5</td>\n",
       "      <td>5</td>\n",
       "      <td>5</td>\n",
       "      <td>5</td>\n",
       "    </tr>\n",
       "    <tr>\n",
       "      <th rowspan=\"3\" valign=\"top\">10002.0</th>\n",
       "      <th>$</th>\n",
       "      <td>21</td>\n",
       "      <td>21</td>\n",
       "      <td>21</td>\n",
       "      <td>21</td>\n",
       "      <td>21</td>\n",
       "      <td>21</td>\n",
       "      <td>21</td>\n",
       "      <td>21</td>\n",
       "      <td>21</td>\n",
       "      <td>21</td>\n",
       "      <td>21</td>\n",
       "      <td>21</td>\n",
       "      <td>21</td>\n",
       "      <td>21</td>\n",
       "      <td>21</td>\n",
       "      <td>21</td>\n",
       "    </tr>\n",
       "    <tr>\n",
       "      <th>$$</th>\n",
       "      <td>40</td>\n",
       "      <td>40</td>\n",
       "      <td>40</td>\n",
       "      <td>40</td>\n",
       "      <td>40</td>\n",
       "      <td>40</td>\n",
       "      <td>40</td>\n",
       "      <td>40</td>\n",
       "      <td>40</td>\n",
       "      <td>40</td>\n",
       "      <td>40</td>\n",
       "      <td>40</td>\n",
       "      <td>40</td>\n",
       "      <td>40</td>\n",
       "      <td>40</td>\n",
       "      <td>40</td>\n",
       "    </tr>\n",
       "    <tr>\n",
       "      <th>$$$</th>\n",
       "      <td>5</td>\n",
       "      <td>5</td>\n",
       "      <td>5</td>\n",
       "      <td>5</td>\n",
       "      <td>5</td>\n",
       "      <td>5</td>\n",
       "      <td>5</td>\n",
       "      <td>5</td>\n",
       "      <td>5</td>\n",
       "      <td>5</td>\n",
       "      <td>5</td>\n",
       "      <td>5</td>\n",
       "      <td>5</td>\n",
       "      <td>5</td>\n",
       "      <td>5</td>\n",
       "      <td>5</td>\n",
       "    </tr>\n",
       "    <tr>\n",
       "      <th rowspan=\"4\" valign=\"top\">10003.0</th>\n",
       "      <th>$</th>\n",
       "      <td>25</td>\n",
       "      <td>25</td>\n",
       "      <td>25</td>\n",
       "      <td>25</td>\n",
       "      <td>25</td>\n",
       "      <td>25</td>\n",
       "      <td>25</td>\n",
       "      <td>25</td>\n",
       "      <td>25</td>\n",
       "      <td>25</td>\n",
       "      <td>25</td>\n",
       "      <td>25</td>\n",
       "      <td>25</td>\n",
       "      <td>25</td>\n",
       "      <td>25</td>\n",
       "      <td>25</td>\n",
       "    </tr>\n",
       "    <tr>\n",
       "      <th>$$</th>\n",
       "      <td>73</td>\n",
       "      <td>73</td>\n",
       "      <td>73</td>\n",
       "      <td>73</td>\n",
       "      <td>73</td>\n",
       "      <td>73</td>\n",
       "      <td>73</td>\n",
       "      <td>73</td>\n",
       "      <td>73</td>\n",
       "      <td>73</td>\n",
       "      <td>73</td>\n",
       "      <td>73</td>\n",
       "      <td>73</td>\n",
       "      <td>73</td>\n",
       "      <td>73</td>\n",
       "      <td>73</td>\n",
       "    </tr>\n",
       "    <tr>\n",
       "      <th>$$$</th>\n",
       "      <td>16</td>\n",
       "      <td>16</td>\n",
       "      <td>16</td>\n",
       "      <td>16</td>\n",
       "      <td>16</td>\n",
       "      <td>16</td>\n",
       "      <td>16</td>\n",
       "      <td>16</td>\n",
       "      <td>16</td>\n",
       "      <td>16</td>\n",
       "      <td>16</td>\n",
       "      <td>16</td>\n",
       "      <td>16</td>\n",
       "      <td>16</td>\n",
       "      <td>16</td>\n",
       "      <td>16</td>\n",
       "    </tr>\n",
       "    <tr>\n",
       "      <th>$$$$</th>\n",
       "      <td>6</td>\n",
       "      <td>6</td>\n",
       "      <td>6</td>\n",
       "      <td>6</td>\n",
       "      <td>6</td>\n",
       "      <td>6</td>\n",
       "      <td>6</td>\n",
       "      <td>6</td>\n",
       "      <td>6</td>\n",
       "      <td>6</td>\n",
       "      <td>6</td>\n",
       "      <td>6</td>\n",
       "      <td>6</td>\n",
       "      <td>6</td>\n",
       "      <td>6</td>\n",
       "      <td>6</td>\n",
       "    </tr>\n",
       "  </tbody>\n",
       "</table>\n",
       "</div>"
      ],
      "text/plain": [
       "                alias  categories  display_phone  distance  id  image_url  \\\n",
       "zip_code price                                                              \n",
       "10001.0  $          7           7              7         7   7          7   \n",
       "         $$        28          28             28        28  28         28   \n",
       "         $$$        5           5              5         5   5          5   \n",
       "10002.0  $         21          21             21        21  21         21   \n",
       "         $$        40          40             40        40  40         40   \n",
       "         $$$        5           5              5         5   5          5   \n",
       "10003.0  $         25          25             25        25  25         25   \n",
       "         $$        73          73             73        73  73         73   \n",
       "         $$$       16          16             16        16  16         16   \n",
       "         $$$$       6           6              6         6   6          6   \n",
       "\n",
       "                is_closed  location  name  phone  rating  review_count  \\\n",
       "zip_code price                                                           \n",
       "10001.0  $              7         7     7      7       7             7   \n",
       "         $$            28        28    28     28      28            28   \n",
       "         $$$            5         5     5      5       5             5   \n",
       "10002.0  $             21        21    21     21      21            21   \n",
       "         $$            40        40    40     40      40            40   \n",
       "         $$$            5         5     5      5       5             5   \n",
       "10003.0  $             25        25    25     25      25            25   \n",
       "         $$            73        73    73     73      73            73   \n",
       "         $$$           16        16    16     16      16            16   \n",
       "         $$$$           6         6     6      6       6             6   \n",
       "\n",
       "                transactions  url  latitude  longitude  \n",
       "zip_code price                                          \n",
       "10001.0  $                 7    7         7          7  \n",
       "         $$               28   28        28         28  \n",
       "         $$$               5    5         5          5  \n",
       "10002.0  $                21   21        21         21  \n",
       "         $$               40   40        40         40  \n",
       "         $$$               5    5         5          5  \n",
       "10003.0  $                25   25        25         25  \n",
       "         $$               73   73        73         73  \n",
       "         $$$              16   16        16         16  \n",
       "         $$$$              6    6         6          6  "
      ]
     },
     "execution_count": 12,
     "metadata": {},
     "output_type": "execute_result"
    }
   ],
   "source": [
    "#We want to group all the zip codes together for convenience\n",
    "yelp_zips=yelp1.groupby([\"zip_code\",\"price\"]).count()\n",
    "yelp_zips.head(10)"
   ]
  },
  {
   "cell_type": "markdown",
   "metadata": {},
   "source": [
    "What we have now in the DataFrame above is a DataFrame with two indices, `zip_code` and `price`. \n",
    "\n",
    "All the columns provide the same count for restaurants, so we only really need to **keep one column** that will represent the `Count` of restaurants **in each zip code,** **at a certain price level** (e.g. '$$').  \n",
    "\n",
    "We can drop the other columns, and we should also rename whatever column we choose to keep as `Count`, for the sake of clarity. "
   ]
  },
  {
   "cell_type": "code",
   "execution_count": 13,
   "metadata": {
    "scrolled": false
   },
   "outputs": [
    {
     "data": {
      "text/html": [
       "<div>\n",
       "<style scoped>\n",
       "    .dataframe tbody tr th:only-of-type {\n",
       "        vertical-align: middle;\n",
       "    }\n",
       "\n",
       "    .dataframe tbody tr th {\n",
       "        vertical-align: top;\n",
       "    }\n",
       "\n",
       "    .dataframe thead th {\n",
       "        text-align: right;\n",
       "    }\n",
       "</style>\n",
       "<table border=\"1\" class=\"dataframe\">\n",
       "  <thead>\n",
       "    <tr style=\"text-align: right;\">\n",
       "      <th></th>\n",
       "      <th></th>\n",
       "      <th>Count</th>\n",
       "    </tr>\n",
       "    <tr>\n",
       "      <th>zip_code</th>\n",
       "      <th>price</th>\n",
       "      <th></th>\n",
       "    </tr>\n",
       "  </thead>\n",
       "  <tbody>\n",
       "    <tr>\n",
       "      <th rowspan=\"3\" valign=\"top\">10001.0</th>\n",
       "      <th>$</th>\n",
       "      <td>7</td>\n",
       "    </tr>\n",
       "    <tr>\n",
       "      <th>$$</th>\n",
       "      <td>28</td>\n",
       "    </tr>\n",
       "    <tr>\n",
       "      <th>$$$</th>\n",
       "      <td>5</td>\n",
       "    </tr>\n",
       "    <tr>\n",
       "      <th rowspan=\"3\" valign=\"top\">10002.0</th>\n",
       "      <th>$</th>\n",
       "      <td>21</td>\n",
       "    </tr>\n",
       "    <tr>\n",
       "      <th>$$</th>\n",
       "      <td>40</td>\n",
       "    </tr>\n",
       "    <tr>\n",
       "      <th>$$$</th>\n",
       "      <td>5</td>\n",
       "    </tr>\n",
       "    <tr>\n",
       "      <th rowspan=\"4\" valign=\"top\">10003.0</th>\n",
       "      <th>$</th>\n",
       "      <td>25</td>\n",
       "    </tr>\n",
       "    <tr>\n",
       "      <th>$$</th>\n",
       "      <td>73</td>\n",
       "    </tr>\n",
       "    <tr>\n",
       "      <th>$$$</th>\n",
       "      <td>16</td>\n",
       "    </tr>\n",
       "    <tr>\n",
       "      <th>$$$$</th>\n",
       "      <td>6</td>\n",
       "    </tr>\n",
       "  </tbody>\n",
       "</table>\n",
       "</div>"
      ],
      "text/plain": [
       "                Count\n",
       "zip_code price       \n",
       "10001.0  $          7\n",
       "         $$        28\n",
       "         $$$        5\n",
       "10002.0  $         21\n",
       "         $$        40\n",
       "         $$$        5\n",
       "10003.0  $         25\n",
       "         $$        73\n",
       "         $$$       16\n",
       "         $$$$       6"
      ]
     },
     "execution_count": 13,
     "metadata": {},
     "output_type": "execute_result"
    }
   ],
   "source": [
    "#Drop irrelevant columns\n",
    "yelp_zips=yelp_zips[['alias']]\n",
    "\n",
    "#Rename the alias column to count for clarity\n",
    "yelp_zips = yelp_zips.rename(columns = {'price':'Price','alias':'Count'})\n",
    "yelp_zips.head(10)"
   ]
  },
  {
   "cell_type": "markdown",
   "metadata": {},
   "source": [
    "Next, we want to remove the `zip_code` and `price` as indices, which then allows us to create a **pivot table** for our DataFrame: "
   ]
  },
  {
   "cell_type": "code",
   "execution_count": 14,
   "metadata": {
    "scrolled": true
   },
   "outputs": [
    {
     "data": {
      "text/html": [
       "<div>\n",
       "<style scoped>\n",
       "    .dataframe tbody tr th:only-of-type {\n",
       "        vertical-align: middle;\n",
       "    }\n",
       "\n",
       "    .dataframe tbody tr th {\n",
       "        vertical-align: top;\n",
       "    }\n",
       "\n",
       "    .dataframe thead th {\n",
       "        text-align: right;\n",
       "    }\n",
       "</style>\n",
       "<table border=\"1\" class=\"dataframe\">\n",
       "  <thead>\n",
       "    <tr style=\"text-align: right;\">\n",
       "      <th></th>\n",
       "      <th></th>\n",
       "      <th>Count</th>\n",
       "    </tr>\n",
       "    <tr>\n",
       "      <th>zip_code</th>\n",
       "      <th>price</th>\n",
       "      <th></th>\n",
       "    </tr>\n",
       "  </thead>\n",
       "  <tbody>\n",
       "    <tr>\n",
       "      <th rowspan=\"3\" valign=\"top\">10001.0</th>\n",
       "      <th>$</th>\n",
       "      <td>7</td>\n",
       "    </tr>\n",
       "    <tr>\n",
       "      <th>$$</th>\n",
       "      <td>28</td>\n",
       "    </tr>\n",
       "    <tr>\n",
       "      <th>$$$</th>\n",
       "      <td>5</td>\n",
       "    </tr>\n",
       "    <tr>\n",
       "      <th rowspan=\"3\" valign=\"top\">10002.0</th>\n",
       "      <th>$</th>\n",
       "      <td>21</td>\n",
       "    </tr>\n",
       "    <tr>\n",
       "      <th>$$</th>\n",
       "      <td>40</td>\n",
       "    </tr>\n",
       "    <tr>\n",
       "      <th>$$$</th>\n",
       "      <td>5</td>\n",
       "    </tr>\n",
       "    <tr>\n",
       "      <th rowspan=\"4\" valign=\"top\">10003.0</th>\n",
       "      <th>$</th>\n",
       "      <td>25</td>\n",
       "    </tr>\n",
       "    <tr>\n",
       "      <th>$$</th>\n",
       "      <td>73</td>\n",
       "    </tr>\n",
       "    <tr>\n",
       "      <th>$$$</th>\n",
       "      <td>16</td>\n",
       "    </tr>\n",
       "    <tr>\n",
       "      <th>$$$$</th>\n",
       "      <td>6</td>\n",
       "    </tr>\n",
       "  </tbody>\n",
       "</table>\n",
       "</div>"
      ],
      "text/plain": [
       "                Count\n",
       "zip_code price       \n",
       "10001.0  $          7\n",
       "         $$        28\n",
       "         $$$        5\n",
       "10002.0  $         21\n",
       "         $$        40\n",
       "         $$$        5\n",
       "10003.0  $         25\n",
       "         $$        73\n",
       "         $$$       16\n",
       "         $$$$       6"
      ]
     },
     "execution_count": 14,
     "metadata": {},
     "output_type": "execute_result"
    }
   ],
   "source": [
    "#remove the zip_code and price as indices\n",
    "yelp_zips.reset_index()\n",
    "yelp_zips.head(10)\n",
    "#this allows us to do a pivot table for the dataframe"
   ]
  },
  {
   "cell_type": "markdown",
   "metadata": {},
   "source": [
    "We are creating a **pivot table** so that we can **transpose** the price level rows `($, $$, $$$, $$$$)` from our original restaurant DataFrame, into columns. \n",
    "\n",
    "`price` becomes the **columns** in our table, `Count` becomes the **values** within it, and `zip_code` becomes our **index**."
   ]
  },
  {
   "cell_type": "code",
   "execution_count": 15,
   "metadata": {
    "scrolled": true
   },
   "outputs": [
    {
     "data": {
      "text/html": [
       "<div>\n",
       "<style scoped>\n",
       "    .dataframe tbody tr th:only-of-type {\n",
       "        vertical-align: middle;\n",
       "    }\n",
       "\n",
       "    .dataframe tbody tr th {\n",
       "        vertical-align: top;\n",
       "    }\n",
       "\n",
       "    .dataframe thead th {\n",
       "        text-align: right;\n",
       "    }\n",
       "</style>\n",
       "<table border=\"1\" class=\"dataframe\">\n",
       "  <thead>\n",
       "    <tr style=\"text-align: right;\">\n",
       "      <th>price</th>\n",
       "      <th>$</th>\n",
       "      <th>$$</th>\n",
       "      <th>$$$</th>\n",
       "      <th>$$$$</th>\n",
       "    </tr>\n",
       "    <tr>\n",
       "      <th>zip_code</th>\n",
       "      <th></th>\n",
       "      <th></th>\n",
       "      <th></th>\n",
       "      <th></th>\n",
       "    </tr>\n",
       "  </thead>\n",
       "  <tbody>\n",
       "    <tr>\n",
       "      <th>10001.0</th>\n",
       "      <td>7.0</td>\n",
       "      <td>28.0</td>\n",
       "      <td>5.0</td>\n",
       "      <td>0.0</td>\n",
       "    </tr>\n",
       "    <tr>\n",
       "      <th>10002.0</th>\n",
       "      <td>21.0</td>\n",
       "      <td>40.0</td>\n",
       "      <td>5.0</td>\n",
       "      <td>0.0</td>\n",
       "    </tr>\n",
       "    <tr>\n",
       "      <th>10003.0</th>\n",
       "      <td>25.0</td>\n",
       "      <td>73.0</td>\n",
       "      <td>16.0</td>\n",
       "      <td>6.0</td>\n",
       "    </tr>\n",
       "    <tr>\n",
       "      <th>10004.0</th>\n",
       "      <td>0.0</td>\n",
       "      <td>3.0</td>\n",
       "      <td>2.0</td>\n",
       "      <td>1.0</td>\n",
       "    </tr>\n",
       "    <tr>\n",
       "      <th>10005.0</th>\n",
       "      <td>1.0</td>\n",
       "      <td>0.0</td>\n",
       "      <td>0.0</td>\n",
       "      <td>0.0</td>\n",
       "    </tr>\n",
       "  </tbody>\n",
       "</table>\n",
       "</div>"
      ],
      "text/plain": [
       "price        $    $$   $$$  $$$$\n",
       "zip_code                        \n",
       "10001.0    7.0  28.0   5.0   0.0\n",
       "10002.0   21.0  40.0   5.0   0.0\n",
       "10003.0   25.0  73.0  16.0   6.0\n",
       "10004.0    0.0   3.0   2.0   1.0\n",
       "10005.0    1.0   0.0   0.0   0.0"
      ]
     },
     "execution_count": 15,
     "metadata": {},
     "output_type": "execute_result"
    }
   ],
   "source": [
    "#Let's do a pivot table\n",
    "p = yelp_zips.pivot_table(index='zip_code', columns='price', values='Count')\n",
    "\n",
    "#Some null values still exist so we want to fill in all the NA values for count purposes\n",
    "p = p.fillna(0)\n",
    "p.head(5)\n",
    "\n",
    "#Another point is that the '$$$$' didn't show up in the column as it is a reserved word in Python. So we need to change that to a letter word later"
   ]
  },
  {
   "cell_type": "markdown",
   "metadata": {},
   "source": [
    "Our intention with this DataFrame was to eventually **merge it with the `mgeo` DataFrame** we generated back in part (4). \n",
    "\n",
    "With this in mind, we noticed at this point a few issues that would pose a problem for merging this DataFrame to the `mgeo` DataFrame: \n",
    "\n",
    "* The `zip_code` values in this DataFrame are dtype `float`, while those values in the `mgeo` DataFrame are dtype `int`. \n",
    "\n",
    "* The column name for `'zip_code'` in this DataFrame needs to match the same column name for the `mgeo` DataFrame, which is `'Zip Code'`. \n",
    "\n",
    "* We also wanted to rename the column names of the price levels from dollar signs (`$, $$, $$$, $$$$`) into words for the sake of clarity, since the `$$$$`, is a reserved word in Python, therefore does not show up in our DataFrame. "
   ]
  },
  {
   "cell_type": "markdown",
   "metadata": {},
   "source": [
    "We made these modifications in the following code cell: "
   ]
  },
  {
   "cell_type": "code",
   "execution_count": 16,
   "metadata": {},
   "outputs": [
    {
     "data": {
      "text/html": [
       "<div>\n",
       "<style scoped>\n",
       "    .dataframe tbody tr th:only-of-type {\n",
       "        vertical-align: middle;\n",
       "    }\n",
       "\n",
       "    .dataframe tbody tr th {\n",
       "        vertical-align: top;\n",
       "    }\n",
       "\n",
       "    .dataframe thead th {\n",
       "        text-align: right;\n",
       "    }\n",
       "</style>\n",
       "<table border=\"1\" class=\"dataframe\">\n",
       "  <thead>\n",
       "    <tr style=\"text-align: right;\">\n",
       "      <th>price</th>\n",
       "      <th>Cheap</th>\n",
       "      <th>Moderate</th>\n",
       "      <th>Pricey</th>\n",
       "      <th>Expensive</th>\n",
       "    </tr>\n",
       "    <tr>\n",
       "      <th>Zip Code</th>\n",
       "      <th></th>\n",
       "      <th></th>\n",
       "      <th></th>\n",
       "      <th></th>\n",
       "    </tr>\n",
       "  </thead>\n",
       "  <tbody>\n",
       "    <tr>\n",
       "      <th>10001</th>\n",
       "      <td>7.0</td>\n",
       "      <td>28.0</td>\n",
       "      <td>5.0</td>\n",
       "      <td>0.0</td>\n",
       "    </tr>\n",
       "    <tr>\n",
       "      <th>10002</th>\n",
       "      <td>21.0</td>\n",
       "      <td>40.0</td>\n",
       "      <td>5.0</td>\n",
       "      <td>0.0</td>\n",
       "    </tr>\n",
       "    <tr>\n",
       "      <th>10003</th>\n",
       "      <td>25.0</td>\n",
       "      <td>73.0</td>\n",
       "      <td>16.0</td>\n",
       "      <td>6.0</td>\n",
       "    </tr>\n",
       "  </tbody>\n",
       "</table>\n",
       "</div>"
      ],
      "text/plain": [
       "price     Cheap  Moderate  Pricey  Expensive\n",
       "Zip Code                                    \n",
       "10001       7.0      28.0     5.0        0.0\n",
       "10002      21.0      40.0     5.0        0.0\n",
       "10003      25.0      73.0    16.0        6.0"
      ]
     },
     "execution_count": 16,
     "metadata": {},
     "output_type": "execute_result"
    }
   ],
   "source": [
    "#We want to reset the index so that zip_code can be in the indexes later\n",
    "restaurants=p.reset_index()\n",
    "\n",
    "#We also want to make sure zip codes are in integers so that it will match the income dataset when we merge them later\n",
    "restaurants['zip_code'] = restaurants['zip_code'].astype(int)\n",
    "\n",
    "#We want to change the column name to 'Zip Code' to match the other dataset for the same reason above\n",
    "restaurants = restaurants.rename(columns = {'zip_code':'Zip Code'})\n",
    "\n",
    "#Let's also rename the columns into words for clarity\n",
    "restaurants = restaurants.rename(columns = {'$':'Cheap', '$$':'Moderate','$$$':'Pricey','$$$$':'Expensive'})\n",
    "\n",
    "#Now we can set the index again\n",
    "restaurants = restaurants.set_index(['Zip Code'])\n",
    "\n",
    "#This is now our dataset!\n",
    "restaurants.head(3)"
   ]
  },
  {
   "cell_type": "markdown",
   "metadata": {},
   "source": [
    "#### Creating a Total column"
   ]
  },
  {
   "cell_type": "markdown",
   "metadata": {},
   "source": [
    "We also may want to look at the proportion of restaurants of a certain price level over all restaurants in an area. \n",
    "\n",
    "To do so, it is useful to create a `Total` column that represents the total, aggregate number of restaurants for each zip code area: "
   ]
  },
  {
   "cell_type": "code",
   "execution_count": 17,
   "metadata": {},
   "outputs": [
    {
     "data": {
      "text/html": [
       "<div>\n",
       "<style scoped>\n",
       "    .dataframe tbody tr th:only-of-type {\n",
       "        vertical-align: middle;\n",
       "    }\n",
       "\n",
       "    .dataframe tbody tr th {\n",
       "        vertical-align: top;\n",
       "    }\n",
       "\n",
       "    .dataframe thead th {\n",
       "        text-align: right;\n",
       "    }\n",
       "</style>\n",
       "<table border=\"1\" class=\"dataframe\">\n",
       "  <thead>\n",
       "    <tr style=\"text-align: right;\">\n",
       "      <th>price</th>\n",
       "      <th>Cheap</th>\n",
       "      <th>Moderate</th>\n",
       "      <th>Pricey</th>\n",
       "      <th>Expensive</th>\n",
       "      <th>Total</th>\n",
       "    </tr>\n",
       "    <tr>\n",
       "      <th>Zip Code</th>\n",
       "      <th></th>\n",
       "      <th></th>\n",
       "      <th></th>\n",
       "      <th></th>\n",
       "      <th></th>\n",
       "    </tr>\n",
       "  </thead>\n",
       "  <tbody>\n",
       "    <tr>\n",
       "      <th>10001</th>\n",
       "      <td>7.0</td>\n",
       "      <td>28.0</td>\n",
       "      <td>5.0</td>\n",
       "      <td>0.0</td>\n",
       "      <td>40.0</td>\n",
       "    </tr>\n",
       "    <tr>\n",
       "      <th>10002</th>\n",
       "      <td>21.0</td>\n",
       "      <td>40.0</td>\n",
       "      <td>5.0</td>\n",
       "      <td>0.0</td>\n",
       "      <td>66.0</td>\n",
       "    </tr>\n",
       "    <tr>\n",
       "      <th>10003</th>\n",
       "      <td>25.0</td>\n",
       "      <td>73.0</td>\n",
       "      <td>16.0</td>\n",
       "      <td>6.0</td>\n",
       "      <td>120.0</td>\n",
       "    </tr>\n",
       "  </tbody>\n",
       "</table>\n",
       "</div>"
      ],
      "text/plain": [
       "price     Cheap  Moderate  Pricey  Expensive  Total\n",
       "Zip Code                                           \n",
       "10001       7.0      28.0     5.0        0.0   40.0\n",
       "10002      21.0      40.0     5.0        0.0   66.0\n",
       "10003      25.0      73.0    16.0        6.0  120.0"
      ]
     },
     "execution_count": 17,
     "metadata": {},
     "output_type": "execute_result"
    }
   ],
   "source": [
    "restaurants['Total'] = restaurants[\"Cheap\"] + restaurants[\"Moderate\"] + restaurants[\"Pricey\"] + restaurants[\"Expensive\"]\n",
    "restaurants.head(3)"
   ]
  },
  {
   "cell_type": "markdown",
   "metadata": {},
   "source": [
    "Now with this `Total` column in our DataFrame, we also thought it would be useful to create a **weighted average** that represents an **average, overall price level** in each zip code. \n",
    "\n",
    "To do so, we first get the **proportion of restaurants of each price level** for a zipcode. (e.g. % of `Cheap` restaurants in zip code 10001). \n",
    "\n",
    "Then, we assign a numerical value for each price level. The values assigned for each price level were: \n",
    "\n",
    "* **Cheap: 1**\n",
    "\n",
    "* **Moderate: 2**\n",
    "\n",
    "* **Pricey: 3**\n",
    "\n",
    "* **Expensive: 4**\n",
    "\n",
    "\n",
    "Finally, we the multiply proportion of restaurants of a price level to the respective assigned value of that price level. \n",
    "\n",
    "The total sum of all those products become our values for the `Average Price Level` column. \n"
   ]
  },
  {
   "cell_type": "markdown",
   "metadata": {},
   "source": [
    "This is shown in the code cell below: "
   ]
  },
  {
   "cell_type": "markdown",
   "metadata": {},
   "source": [
    "**Creating an Average Price Level column**: "
   ]
  },
  {
   "cell_type": "code",
   "execution_count": 18,
   "metadata": {},
   "outputs": [
    {
     "data": {
      "text/html": [
       "<div>\n",
       "<style scoped>\n",
       "    .dataframe tbody tr th:only-of-type {\n",
       "        vertical-align: middle;\n",
       "    }\n",
       "\n",
       "    .dataframe tbody tr th {\n",
       "        vertical-align: top;\n",
       "    }\n",
       "\n",
       "    .dataframe thead th {\n",
       "        text-align: right;\n",
       "    }\n",
       "</style>\n",
       "<table border=\"1\" class=\"dataframe\">\n",
       "  <thead>\n",
       "    <tr style=\"text-align: right;\">\n",
       "      <th>price</th>\n",
       "      <th>Cheap</th>\n",
       "      <th>Moderate</th>\n",
       "      <th>Pricey</th>\n",
       "      <th>Expensive</th>\n",
       "      <th>Total</th>\n",
       "      <th>Average Price Level</th>\n",
       "    </tr>\n",
       "    <tr>\n",
       "      <th>Zip Code</th>\n",
       "      <th></th>\n",
       "      <th></th>\n",
       "      <th></th>\n",
       "      <th></th>\n",
       "      <th></th>\n",
       "      <th></th>\n",
       "    </tr>\n",
       "  </thead>\n",
       "  <tbody>\n",
       "    <tr>\n",
       "      <th>10001</th>\n",
       "      <td>7.0</td>\n",
       "      <td>28.0</td>\n",
       "      <td>5.0</td>\n",
       "      <td>0.0</td>\n",
       "      <td>40.0</td>\n",
       "      <td>1.950000</td>\n",
       "    </tr>\n",
       "    <tr>\n",
       "      <th>10002</th>\n",
       "      <td>21.0</td>\n",
       "      <td>40.0</td>\n",
       "      <td>5.0</td>\n",
       "      <td>0.0</td>\n",
       "      <td>66.0</td>\n",
       "      <td>1.757576</td>\n",
       "    </tr>\n",
       "    <tr>\n",
       "      <th>10003</th>\n",
       "      <td>25.0</td>\n",
       "      <td>73.0</td>\n",
       "      <td>16.0</td>\n",
       "      <td>6.0</td>\n",
       "      <td>120.0</td>\n",
       "      <td>2.025000</td>\n",
       "    </tr>\n",
       "  </tbody>\n",
       "</table>\n",
       "</div>"
      ],
      "text/plain": [
       "price     Cheap  Moderate  Pricey  Expensive  Total  Average Price Level\n",
       "Zip Code                                                                \n",
       "10001       7.0      28.0     5.0        0.0   40.0             1.950000\n",
       "10002      21.0      40.0     5.0        0.0   66.0             1.757576\n",
       "10003      25.0      73.0    16.0        6.0  120.0             2.025000"
      ]
     },
     "execution_count": 18,
     "metadata": {},
     "output_type": "execute_result"
    }
   ],
   "source": [
    "#constructing an average price level for correlations\n",
    "restaurants['Average Price Level'] = (restaurants['Cheap']/restaurants['Total'])* 1+(restaurants['Moderate']/restaurants['Total'])* 2+(restaurants['Pricey']/restaurants['Total'])* 3+(restaurants['Expensive']/restaurants['Total'])* 4\n",
    "\n",
    "restaurants.head(3)"
   ]
  },
  {
   "cell_type": "markdown",
   "metadata": {},
   "source": [
    "**Note:** We considered evaluating restaurant density on a relative basis, taking an average of the # of restaurants per square mile to give us a fairer look. However, data on the square miles or acres according to zip code was hard to come by, so we decided to forgoe this step."
   ]
  },
  {
   "cell_type": "markdown",
   "metadata": {},
   "source": [
    "## 7. Creating a GeoDataFrame and Map Visualizations"
   ]
  },
  {
   "cell_type": "markdown",
   "metadata": {},
   "source": [
    "The next step is now **merging the two data sets (`mgeo` and `restaurants`) together.** \n",
    "\n",
    "We do this by resetting the index of `restaurants` DataFrame, and using the `merge` method on the `mgeo` function: "
   ]
  },
  {
   "cell_type": "code",
   "execution_count": 19,
   "metadata": {},
   "outputs": [],
   "source": [
    "#Resetting the index so that 'Zip Code' will be recognized as a column value again, allowing us to merge datasets\n",
    "restaurants = restaurants.reset_index()\n",
    "mgeo = mgeo.merge(restaurants[['Zip Code','Cheap','Moderate','Pricey','Expensive', 'Total', 'Average Price Level']], on = ['Zip Code'])"
   ]
  },
  {
   "cell_type": "markdown",
   "metadata": {},
   "source": [
    "##### Now, let's visualize!\n",
    "\n",
    "### (a) Let's start generally with the number of restaurants in each zip code:"
   ]
  },
  {
   "cell_type": "code",
   "execution_count": 20,
   "metadata": {
    "scrolled": false
   },
   "outputs": [
    {
     "data": {
      "image/png": "[encoded data removed]",
      "text/plain": [
       "<Figure size 576x936 with 2 Axes>"
      ]
     },
     "metadata": {},
     "output_type": "display_data"
    }
   ],
   "source": [
    "fig, ax = plt.subplots(1, 2, figsize = (8,13))\n",
    "\n",
    "mgeo.plot(ax = ax[0], column='Total', edgecolor='black', cmap='Blues', alpha = .8)\n",
    "\n",
    "ax[0].get_xaxis().set_visible(False)\n",
    "ax[0].get_yaxis().set_visible(False)\n",
    "ax[0].set_title('Number of Restaurants in Each Zip Code')\n",
    "ax[0].title.set_size(12)\n",
    "\n",
    "mgeo.plot(ax = ax[1], column='Income', edgecolor='black', cmap='Blues', alpha = .8)\n",
    "ax[1].get_xaxis().set_visible(False)\n",
    "ax[1].get_yaxis().set_visible(False)\n",
    "ax[1].set_title('Median Income in Each Zip Code')\n",
    "ax[1].title.set_size(12)\n",
    "\n",
    "\n",
    "plt.show()"
   ]
  },
  {
   "cell_type": "markdown",
   "metadata": {},
   "source": [
    "We can see that generally, darker areas are in lower Manhattan for both graphs. It seems like restaurants and higher income areas are both more concentrated in lower Manhattan."
   ]
  },
  {
   "cell_type": "markdown",
   "metadata": {},
   "source": [
    "## *How are restaurants generally distributed across Manhattan?*\n",
    "#### Observations: Restaurant distribution (all price levels)\n",
    "* From what we can see in this map, it is clear that most of the restaurants in Manhattan are **much more concentrated** in the **areas below Central Park.**\n",
    "\n",
    "\n",
    "* In the most general terms, these more concentrated areas can generally be called **Midtown and Downtown Manhattan.**\n",
    "\n",
    "\n",
    "* The areas **above and along Central Park** (Upper East Side, Upper West Side, Harlem, etc.) appear to have far fewer restaurants. "
   ]
  },
  {
   "cell_type": "markdown",
   "metadata": {},
   "source": [
    "### (b) Let's now look at the distribution of the restaurants at various price levels:"
   ]
  },
  {
   "cell_type": "markdown",
   "metadata": {},
   "source": [
    "In these visualizations, we are also adding the map of **zip codes by income** for the sake of initial, side-by-side, comparison between the distribution of **restaurants of a certain price level** across zip codes, and the **respective income levels** of those zip codes. "
   ]
  },
  {
   "cell_type": "code",
   "execution_count": 21,
   "metadata": {},
   "outputs": [
    {
     "data": {
      "image/png": "[encoded data removed]",
      "text/plain": [
       "<Figure size 1080x504 with 4 Axes>"
      ]
     },
     "metadata": {},
     "output_type": "display_data"
    }
   ],
   "source": [
    "fig, ax = plt.subplots(1,4, figsize = (15,7))\n",
    "\n",
    "#Let's aggregate geomaps for all\n",
    "mgeo.plot(ax = ax[0], column='Expensive', edgecolor='black', cmap='Reds', alpha = 0.8)\n",
    "mgeo.plot(ax = ax[1], column='Pricey', edgecolor='black', cmap='Reds', alpha = 0.8)\n",
    "mgeo.plot(ax = ax[2], column='Moderate', edgecolor='black', cmap='Greens', alpha = 0.8)\n",
    "mgeo.plot(ax = ax[3], column='Cheap', edgecolor='black', cmap='Greens', alpha = 0.8)\n",
    "\n",
    "#Set title for subplots\n",
    "ax[0].set_title('Expensive Restaurants')\n",
    "ax[0].title.set_size(15)\n",
    "ax[1].set_title('Pricey Restaurants')\n",
    "ax[1].title.set_size(15)\n",
    "ax[2].set_title('Moderate Restaurants')\n",
    "ax[2].title.set_size(15)\n",
    "ax[3].set_title('Cheap Restaurants')\n",
    "ax[3].title.set_size(15)\n",
    "\n",
    "ax[0].get_xaxis().set_visible(False)\n",
    "ax[0].get_yaxis().set_visible(False)\n",
    "ax[1].get_xaxis().set_visible(False)\n",
    "ax[1].get_yaxis().set_visible(False)\n",
    "ax[2].get_xaxis().set_visible(False)\n",
    "ax[2].get_yaxis().set_visible(False)\n",
    "ax[3].get_xaxis().set_visible(False)\n",
    "ax[3].get_yaxis().set_visible(False)\n",
    "\n",
    "\n",
    "#Set title for the collection\n",
    "fig.suptitle('Restaurant Distribution vs. Income across Zip Codes',fontsize=20)\n",
    "\n",
    "plt.show()"
   ]
  },
  {
   "cell_type": "markdown",
   "metadata": {},
   "source": [
    "*For reference: [Manhattan Zip Code Map](http://www.citidex.com/map/zipco.html)* "
   ]
  },
  {
   "cell_type": "markdown",
   "metadata": {},
   "source": [
    "## *Where are restaurants located according to price in Manhattan?*\n",
    "#### Observations: Higher tier (*in red*) restaurant distribution\n",
    "* Based on this data, pricey (3 Dollar Sign) restaurants seem to be of a generally greater number as compared to expensive (4 DS restaurants).\n",
    "\n",
    "* Apart from this, pricey (3 DS) restaurants seem to have a **greater concentration** in the Downtown area, specifically for zip codes **10011, 10012, 10013, 10014 and 10003.**. \n",
    "\n",
    "* Another interesting thing to note is that **both pricey (3 dollar sign) and expensive (4 DS)** restaurants are **heavily concentrated** in the zip code **10019**. \n",
    "\n",
    "* This zip code, in particular, is where **Central Park South** (and all of its high-class hotels, such as **Plaza Hotel**), **Columbus Circle**, **Hell's Kitchen**, are all situated. \n",
    "\n",
    "#### Observations: Lower tier (*in green*) restaurant distribution\n",
    "* Cheap (1 DS) and moderate (2 DS) restaurants are both **most concentrated** in the zipcode **10003**. \n",
    "\n",
    "* This zip code, **10003**, is where **Union Square, NoHo, East Village, and St. Marks' Place** are all located.\n",
    "\n",
    "* Cheap (1 DS) restaurants also seem to be pretty concentrated in the zip code **10002**. \n",
    "\n",
    "* While both cheap and moderate restaurants seem to share the same areas of concentration, one particular area where moderate restaurants seem to be concentrated while cheap restaurants are not, is in the **zipcodes 10019 and 10036. **\n",
    "\n",
    "* These two zipcodes combined, are where **Times Square**, **Theatre District**, **Hell's Kitchen**, and **Midtown West** are situated.  "
   ]
  },
  {
   "cell_type": "markdown",
   "metadata": {},
   "source": [
    "### (c) Let's now look at the average price level represented by the restaurants in each zip code:"
   ]
  },
  {
   "cell_type": "markdown",
   "metadata": {},
   "source": [
    "In this sub-section of visualizations, we also want to add the **zip codes by income** for a basic, side-by-side comparison of **average price levels of restaurants** and **median income levels** in a particular zip code. "
   ]
  },
  {
   "cell_type": "code",
   "execution_count": 22,
   "metadata": {},
   "outputs": [
    {
     "data": {
      "image/png": "[encoded data removed]",
      "text/plain": [
       "<Figure size 720x504 with 2 Axes>"
      ]
     },
     "metadata": {},
     "output_type": "display_data"
    }
   ],
   "source": [
    "fig, ax = plt.subplots(1,2,figsize = (10,7))\n",
    "\n",
    "#Left graph is average price level of each zip code\n",
    "mgeo.plot(ax = ax[0], column='Average Price Level', edgecolor='black', cmap='coolwarm', alpha = 0.9)\n",
    "\n",
    "#hide axes\n",
    "ax[0].get_xaxis().set_visible(False)\n",
    "ax[0].get_yaxis().set_visible(False)\n",
    "\n",
    "#create a title\n",
    "ax[0].set_title('Average Restaurant Price Level of Zip Codes')\n",
    "ax[0].title.set_size(15)\n",
    "\n",
    "#Right graph is income according to Zip Codes\n",
    "mgeo.plot(ax = ax[1], column='Income', edgecolor='black', cmap='Greens', alpha = 0.9)\n",
    "\n",
    "ax[1].get_xaxis().set_visible(False)\n",
    "ax[1].get_yaxis().set_visible(False)\n",
    "\n",
    "ax[1].set_title('Zip Codes by Income')\n",
    "ax[1].title.set_size(15)\n",
    "\n",
    "plt.show()"
   ]
  },
  {
   "cell_type": "markdown",
   "metadata": {},
   "source": [
    "* Here, we are using a coolwarm colorscheme to indicate more clearly the weighted average price levels (WAPL), as having two different color schemes allows the map to show a greater variance of average price level\n",
    "* Blue tones symbolize a lower WAPL, while reds indicate a higher WAPL\n",
    "* We want to make a callout for two zip codes in particular have a dark blue color (lowest value)"
   ]
  },
  {
   "cell_type": "markdown",
   "metadata": {},
   "source": [
    "To identify this zip two code, we will do sorting function:"
   ]
  },
  {
   "cell_type": "code",
   "execution_count": 39,
   "metadata": {},
   "outputs": [
    {
     "data": {
      "text/html": [
       "<div>\n",
       "<style scoped>\n",
       "    .dataframe tbody tr th:only-of-type {\n",
       "        vertical-align: middle;\n",
       "    }\n",
       "\n",
       "    .dataframe tbody tr th {\n",
       "        vertical-align: top;\n",
       "    }\n",
       "\n",
       "    .dataframe thead th {\n",
       "        text-align: right;\n",
       "    }\n",
       "</style>\n",
       "<table border=\"1\" class=\"dataframe\">\n",
       "  <thead>\n",
       "    <tr style=\"text-align: right;\">\n",
       "      <th></th>\n",
       "      <th>Zip Code</th>\n",
       "      <th>Income</th>\n",
       "      <th>geometry</th>\n",
       "      <th>Cheap</th>\n",
       "      <th>Moderate</th>\n",
       "      <th>Pricey</th>\n",
       "      <th>Expensive</th>\n",
       "      <th>Total</th>\n",
       "      <th>Average Price Level</th>\n",
       "    </tr>\n",
       "  </thead>\n",
       "  <tbody>\n",
       "    <tr>\n",
       "      <th>32</th>\n",
       "      <td>10005</td>\n",
       "      <td>130116.0</td>\n",
       "      <td>POLYGON ((982595.6794779003 195880.7536295503,...</td>\n",
       "      <td>1.0</td>\n",
       "      <td>0.0</td>\n",
       "      <td>0.0</td>\n",
       "      <td>0.0</td>\n",
       "      <td>1.0</td>\n",
       "      <td>1.0</td>\n",
       "    </tr>\n",
       "    <tr>\n",
       "      <th>3</th>\n",
       "      <td>10032</td>\n",
       "      <td>40054.0</td>\n",
       "      <td>POLYGON ((998935.8528342247 249154.259943217, ...</td>\n",
       "      <td>2.0</td>\n",
       "      <td>0.0</td>\n",
       "      <td>0.0</td>\n",
       "      <td>0.0</td>\n",
       "      <td>2.0</td>\n",
       "      <td>1.0</td>\n",
       "    </tr>\n",
       "  </tbody>\n",
       "</table>\n",
       "</div>"
      ],
      "text/plain": [
       "    Zip Code    Income                                           geometry  \\\n",
       "32     10005  130116.0  POLYGON ((982595.6794779003 195880.7536295503,...   \n",
       "3      10032   40054.0  POLYGON ((998935.8528342247 249154.259943217, ...   \n",
       "\n",
       "    Cheap  Moderate  Pricey  Expensive  Total  Average Price Level  \n",
       "32    1.0       0.0     0.0        0.0    1.0                  1.0  \n",
       "3     2.0       0.0     0.0        0.0    2.0                  1.0  "
      ]
     },
     "execution_count": 39,
     "metadata": {},
     "output_type": "execute_result"
    }
   ],
   "source": [
    "cheapest = mgeo.sort_values(by='Average Price Level', ascending=True)\n",
    "cheapest.head(2)"
   ]
  },
  {
   "cell_type": "markdown",
   "metadata": {},
   "source": [
    "We see that these zip codes are 10005 and 100032, which are the Wall Street area, and Washington Heights, respectively. These areas don't have as many restaurants.\n",
    "\n",
    "We want to check whether the darkest red represented was also an extremely skewed value:"
   ]
  },
  {
   "cell_type": "code",
   "execution_count": 42,
   "metadata": {},
   "outputs": [
    {
     "data": {
      "text/html": [
       "<div>\n",
       "<style scoped>\n",
       "    .dataframe tbody tr th:only-of-type {\n",
       "        vertical-align: middle;\n",
       "    }\n",
       "\n",
       "    .dataframe tbody tr th {\n",
       "        vertical-align: top;\n",
       "    }\n",
       "\n",
       "    .dataframe thead th {\n",
       "        text-align: right;\n",
       "    }\n",
       "</style>\n",
       "<table border=\"1\" class=\"dataframe\">\n",
       "  <thead>\n",
       "    <tr style=\"text-align: right;\">\n",
       "      <th></th>\n",
       "      <th>Zip Code</th>\n",
       "      <th>Income</th>\n",
       "      <th>geometry</th>\n",
       "      <th>Cheap</th>\n",
       "      <th>Moderate</th>\n",
       "      <th>Pricey</th>\n",
       "      <th>Expensive</th>\n",
       "      <th>Total</th>\n",
       "      <th>Average Price Level</th>\n",
       "    </tr>\n",
       "  </thead>\n",
       "  <tbody>\n",
       "    <tr>\n",
       "      <th>34</th>\n",
       "      <td>10004</td>\n",
       "      <td>123056.0</td>\n",
       "      <td>POLYGON ((972696.8446168154 193014.5477478057,...</td>\n",
       "      <td>0.0</td>\n",
       "      <td>3.0</td>\n",
       "      <td>2.0</td>\n",
       "      <td>1.0</td>\n",
       "      <td>6.0</td>\n",
       "      <td>2.666667</td>\n",
       "    </tr>\n",
       "  </tbody>\n",
       "</table>\n",
       "</div>"
      ],
      "text/plain": [
       "    Zip Code    Income                                           geometry  \\\n",
       "34     10004  123056.0  POLYGON ((972696.8446168154 193014.5477478057,...   \n",
       "\n",
       "    Cheap  Moderate  Pricey  Expensive  Total  Average Price Level  \n",
       "34    0.0       3.0     2.0        1.0    6.0             2.666667  "
      ]
     },
     "execution_count": 42,
     "metadata": {},
     "output_type": "execute_result"
    }
   ],
   "source": [
    "priciest = mgeo.sort_values(by='Average Price Level', ascending=False)\n",
    "priciest.head(1)"
   ]
  },
  {
   "cell_type": "markdown",
   "metadata": {},
   "source": [
    "The average price is 2.67, not the highest absolute value of 4, so we're good."
   ]
  },
  {
   "cell_type": "markdown",
   "metadata": {},
   "source": [
    "## 8. Examining correlations between restaurant distribution and zip code income levels"
   ]
  },
  {
   "cell_type": "markdown",
   "metadata": {},
   "source": [
    "### (a). Assessing the relationship between the proportion of restaurants of various price levels to income levels"
   ]
  },
  {
   "cell_type": "markdown",
   "metadata": {},
   "source": [
    "In assessing this potential relationship, it is first important to create a **new DataFrame** that matches with **income data.**\n",
    "\n",
    "This is what we're doing in the following code cell: "
   ]
  },
  {
   "cell_type": "code",
   "execution_count": 24,
   "metadata": {
    "scrolled": false
   },
   "outputs": [
    {
     "data": {
      "text/html": [
       "<div>\n",
       "<style scoped>\n",
       "    .dataframe tbody tr th:only-of-type {\n",
       "        vertical-align: middle;\n",
       "    }\n",
       "\n",
       "    .dataframe tbody tr th {\n",
       "        vertical-align: top;\n",
       "    }\n",
       "\n",
       "    .dataframe thead th {\n",
       "        text-align: right;\n",
       "    }\n",
       "</style>\n",
       "<table border=\"1\" class=\"dataframe\">\n",
       "  <thead>\n",
       "    <tr style=\"text-align: right;\">\n",
       "      <th></th>\n",
       "      <th>Zip Code</th>\n",
       "      <th>Cheap</th>\n",
       "      <th>Moderate</th>\n",
       "      <th>Pricey</th>\n",
       "      <th>Expensive</th>\n",
       "      <th>Total</th>\n",
       "      <th>Average Price Level</th>\n",
       "      <th>Income</th>\n",
       "    </tr>\n",
       "  </thead>\n",
       "  <tbody>\n",
       "    <tr>\n",
       "      <th>0</th>\n",
       "      <td>10001</td>\n",
       "      <td>7.0</td>\n",
       "      <td>28.0</td>\n",
       "      <td>5.0</td>\n",
       "      <td>0.0</td>\n",
       "      <td>40.0</td>\n",
       "      <td>1.950000</td>\n",
       "      <td>85168.0</td>\n",
       "    </tr>\n",
       "    <tr>\n",
       "      <th>1</th>\n",
       "      <td>10002</td>\n",
       "      <td>21.0</td>\n",
       "      <td>40.0</td>\n",
       "      <td>5.0</td>\n",
       "      <td>0.0</td>\n",
       "      <td>66.0</td>\n",
       "      <td>1.757576</td>\n",
       "      <td>35594.0</td>\n",
       "    </tr>\n",
       "    <tr>\n",
       "      <th>2</th>\n",
       "      <td>10003</td>\n",
       "      <td>25.0</td>\n",
       "      <td>73.0</td>\n",
       "      <td>16.0</td>\n",
       "      <td>6.0</td>\n",
       "      <td>120.0</td>\n",
       "      <td>2.025000</td>\n",
       "      <td>100791.0</td>\n",
       "    </tr>\n",
       "  </tbody>\n",
       "</table>\n",
       "</div>"
      ],
      "text/plain": [
       "   Zip Code  Cheap  Moderate  Pricey  Expensive  Total  Average Price Level  \\\n",
       "0     10001    7.0      28.0     5.0        0.0   40.0             1.950000   \n",
       "1     10002   21.0      40.0     5.0        0.0   66.0             1.757576   \n",
       "2     10003   25.0      73.0    16.0        6.0  120.0             2.025000   \n",
       "\n",
       "     Income  \n",
       "0   85168.0  \n",
       "1   35594.0  \n",
       "2  100791.0  "
      ]
     },
     "execution_count": 24,
     "metadata": {},
     "output_type": "execute_result"
    }
   ],
   "source": [
    "#Let's make a new DataFrame that combines the restaurant data with income data, matched on zip codes\n",
    "restaurants1 = restaurants.merge(manhattan_income[['Zip Code','Income']], on = ['Zip Code'])\n",
    "restaurants1.head(3)"
   ]
  },
  {
   "cell_type": "markdown",
   "metadata": {},
   "source": [
    "### Making a scatterplot"
   ]
  },
  {
   "cell_type": "markdown",
   "metadata": {},
   "source": [
    "Next, using the `polyfit` function from the `numpy` package, we will create and plot a scatterplot.\n",
    "\n",
    "This scatterplot can help us see if a potential relationship exists between the **proportion of restaurants at a particular price level**, to that respective zip code's **median income level**. \n",
    "\n",
    "In this section, we will test this relationship on **all price levels.** \n",
    "\n",
    "Let us start with the relationship between the **proportion of expensive (4 DS) restaurants** to **median income**: "
   ]
  },
  {
   "cell_type": "markdown",
   "metadata": {},
   "source": [
    "Here's our **hypothesis**:\n",
    "* We expect to see a ***strong positive correlation*** between the proportion of **expensive** restaurants and the median income level.\n",
    "* Similarly, we expect to see a ***positively correlated***  between proportion of **pricey** restaurants in a zip code area and median income levels, although we expect it to be less strong than that of expensive restaurants. \n",
    "* We expect that there will be a ***strong negative correlation*** between the proportion of **cheap** restaurants and median income levels.\n",
    "* Lastly, we expect there to be ***little to no correlation*** between the proportion of **moderate** restaurants in a zip code area and median income level."
   ]
  },
  {
   "cell_type": "markdown",
   "metadata": {},
   "source": [
    "### Proportion of Expensive to Total Restaurants vs. Median Income: "
   ]
  },
  {
   "cell_type": "code",
   "execution_count": 25,
   "metadata": {
    "scrolled": true
   },
   "outputs": [
    {
     "data": {
      "text/plain": [
       "Text(0.5,0.98,'Proportion of Expensive to Total Restaurants vs. Median Income')"
      ]
     },
     "execution_count": 25,
     "metadata": {},
     "output_type": "execute_result"
    },
    {
     "data": {
      "image/png": "[encoded data removed]",
      "text/plain": [
       "<Figure size 432x288 with 1 Axes>"
      ]
     },
     "metadata": {},
     "output_type": "display_data"
    }
   ],
   "source": [
    "#Let's import a polyfit function from numpy\n",
    "from numpy.polynomial.polynomial import polyfit\n",
    "x=restaurants1['Income']\n",
    "y=restaurants1['Expensive']/restaurants1['Total']\n",
    "\n",
    "#Let's then poly fit the data\n",
    "b, m = polyfit(x, y, 1)\n",
    "\n",
    "#Plot both the fitting results and the original data\n",
    "fig, axe = plt.subplots()        # create axis object axe\n",
    "axe.scatter(x,y) \n",
    "axe.plot(x, b+ m*x,'r')\n",
    "fig.suptitle(\"Proportion of Expensive to Total Restaurants vs. Median Income\", fontsize=18)"
   ]
  },
  {
   "cell_type": "markdown",
   "metadata": {},
   "source": [
    "Interesting. It seems like there is a **slight positive** correlation between median income levels and the proportion of expensive restaurants to total restaurants in a zip code area."
   ]
  },
  {
   "cell_type": "markdown",
   "metadata": {},
   "source": [
    "### Proportion of Pricey Restaurants to Median Income: "
   ]
  },
  {
   "cell_type": "code",
   "execution_count": 26,
   "metadata": {
    "scrolled": false
   },
   "outputs": [
    {
     "data": {
      "text/plain": [
       "Text(0.5,0.98,'Proportion of Pricey Restaurants to Total Restaurants vs. Median Income')"
      ]
     },
     "execution_count": 26,
     "metadata": {},
     "output_type": "execute_result"
    },
    {
     "data": {
      "image/png": "[encoded data removed]",
      "text/plain": [
       "<Figure size 432x288 with 1 Axes>"
      ]
     },
     "metadata": {},
     "output_type": "display_data"
    }
   ],
   "source": [
    "x=restaurants1['Income']\n",
    "y=restaurants1['Pricey']/restaurants1['Total']\n",
    "\n",
    "#Let's then poly fit the data\n",
    "b, m = polyfit(x, y, 1)\n",
    "\n",
    "#Plot both the fitting results and the original data\n",
    "fig, axe = plt.subplots()        # create axis object axe\n",
    "axe.scatter(x,y) \n",
    "axe.plot(x, b+ m*x,'r')\n",
    "fig.suptitle(\"Proportion of Pricey Restaurants to Total Restaurants vs. Median Income\", fontsize=18)"
   ]
  },
  {
   "cell_type": "markdown",
   "metadata": {},
   "source": [
    "**Observations**: \n",
    "\n",
    "* The **polyfit line** in this scatter plot demonstrates a **positive slope**, which may indicate a possible **positive correlation** of the two variables. \n",
    "\n",
    "\n",
    "* This means that as the **median income** of a zip code increases, the **proportion of expensive restaurants** may increase in that zip code to some degree.\n",
    "\n",
    "\n",
    "* However, when we evaluate the points of this graph further, there seems to be a lot of **noise** and **variation** in the data, as seen in that there is one extreme point at the very right of the graph. \n",
    "\n",
    "\n",
    "* Another contributor to the noise is that most of the points generally fall in the around the x-value of 100,000, and the respective proportions they exhibit just vary across the y-axis."
   ]
  },
  {
   "cell_type": "markdown",
   "metadata": {},
   "source": [
    "### Proportion of Moderate Restaurants to Median Income: "
   ]
  },
  {
   "cell_type": "code",
   "execution_count": 27,
   "metadata": {
    "scrolled": true
   },
   "outputs": [
    {
     "data": {
      "text/plain": [
       "Text(0.5,0.98,'Proportion of Moderate Restaurants to Total Restaurants vs. Median Income')"
      ]
     },
     "execution_count": 27,
     "metadata": {},
     "output_type": "execute_result"
    },
    {
     "data": {
      "image/png": "[encoded data removed]",
      "text/plain": [
       "<Figure size 432x288 with 1 Axes>"
      ]
     },
     "metadata": {},
     "output_type": "display_data"
    }
   ],
   "source": [
    "x=restaurants1['Income']\n",
    "y=restaurants1['Moderate']/restaurants1['Total']\n",
    "\n",
    "#Let's then poly fit the data\n",
    "b, m = polyfit(x, y, 1)\n",
    "\n",
    "#Plot both the fitting results and the original data\n",
    "fig, axe = plt.subplots()        # create axis object axe\n",
    "axe.scatter(x,y) \n",
    "axe.plot(x, b+ m*x,'r')\n",
    "fig.suptitle(\"Proportion of Moderate Restaurants to Total Restaurants vs. Median Income\", fontsize=18)"
   ]
  },
  {
   "cell_type": "markdown",
   "metadata": {},
   "source": [
    "There doesn't seem to be much of a correlation here."
   ]
  },
  {
   "cell_type": "markdown",
   "metadata": {},
   "source": [
    "### Proportion of Cheap Restaurants to Median Income: "
   ]
  },
  {
   "cell_type": "code",
   "execution_count": 28,
   "metadata": {},
   "outputs": [
    {
     "data": {
      "text/plain": [
       "Text(0.5,0.98,'Proportion of Cheap to Total Restaurants vs. Median Income')"
      ]
     },
     "execution_count": 28,
     "metadata": {},
     "output_type": "execute_result"
    },
    {
     "data": {
      "image/png": "[encoded data removed]",
      "text/plain": [
       "<Figure size 432x288 with 1 Axes>"
      ]
     },
     "metadata": {},
     "output_type": "display_data"
    }
   ],
   "source": [
    "x=restaurants1['Income']\n",
    "y=restaurants1['Cheap']/restaurants1['Total']\n",
    "\n",
    "b, m = polyfit(x, y, 1)\n",
    "\n",
    "fig, axe = plt.subplots()\n",
    "axe.scatter(x,y) \n",
    "axe.plot(x, b+ m*x,'r')\n",
    "fig.suptitle(\"Proportion of Cheap to Total Restaurants vs. Median Income\", fontsize=18)"
   ]
  },
  {
   "cell_type": "markdown",
   "metadata": {},
   "source": [
    "**Observations**: \n",
    "\n",
    "* The **polyfit line** in this scatter plot demonstrates a **negative slope**, which may indicate a **negative correlation** of the two variables. \n",
    "\n",
    "\n",
    "* This means that as the **median income** of a zip code increases, the **proportion of cheap restaurants** may decrease in that zip code to some degree.\n",
    "\n",
    "\n",
    "* This may demonstrate the phenomenon that **cheap restaurants** are a **snob good**, which means that people will consume less of them, as they earn and reach higher levels of income.\n",
    "\n",
    "#### Some additional notes:\n",
    "* This method attempted to assess if a relationship between the **proportion of restaurants of a price level** in a zip code, to that zip code's **median income** level.\n",
    "\n",
    "\n",
    "* In this method, we want to only highlight **three** scatterplot relationships:\n",
    "    * The scatterplot between the proportion of **expensive restaurants** to median income \n",
    "    * The scatterplot between the proportion of **pricey restaurants** to median income \n",
    "    * The scatterplot between the proportion of **cheap restaurants** to median income \n",
    "    \n",
    "    \n",
    "* We are disregarding the relationships of the **moderate restaurants** primarily becausw rhe slope for the **polyfit line** for the proportion of **moderate restaurants** vs. **median income** scatterplot was **very flat**, which indicates essentially **no correlation** of the two variables. "
   ]
  },
  {
   "cell_type": "markdown",
   "metadata": {},
   "source": [
    "### 8(b). Assessing the relationship between the average price level of a zip code and its median income level: "
   ]
  },
  {
   "cell_type": "markdown",
   "metadata": {},
   "source": [
    "We are still constructing a scatterplot in this example. \n",
    "\n",
    "The only difference is that we are using the `Average Price Level` column as our dependent variable on the y-axis: \n",
    "\n",
    "* Compared to method 1 in 8(a), which tests the relationship of proportions of restaurants at various price levels to income, this method tests this relationship of median income with a **weighted average price level.**"
   ]
  },
  {
   "cell_type": "code",
   "execution_count": 29,
   "metadata": {},
   "outputs": [
    {
     "data": {
      "text/plain": [
       "Text(0.5,0.98,'Correlation between Income and Average Price Level')"
      ]
     },
     "execution_count": 29,
     "metadata": {},
     "output_type": "execute_result"
    },
    {
     "data": {
      "image/png": "[encoded data removed]",
      "text/plain": [
       "<Figure size 432x288 with 1 Axes>"
      ]
     },
     "metadata": {},
     "output_type": "display_data"
    }
   ],
   "source": [
    "#creating a scatterplot between income and average price level of each zipcode\n",
    "x=restaurants1['Income']\n",
    "y=restaurants1['Average Price Level']\n",
    "\n",
    "#Let's then poly fit the data\n",
    "b, m = polyfit(x, y, 1)\n",
    "\n",
    "#Plot both the fitting results and the original data\n",
    "fig, axe = plt.subplots()        # create axis object axe\n",
    "axe.scatter(x,y) \n",
    "axe.plot(x, b+ m*x,'r')\n",
    "fig.suptitle(\"Correlation between Income and Average Price Level\", fontsize=18)"
   ]
  },
  {
   "cell_type": "markdown",
   "metadata": {},
   "source": [
    "**Observations:** \n",
    "* From what can be seen in this scatterplot, a **rough positive correlation** may be associated with the median income and average price level of a zip code. \n",
    "\n",
    "* This can be seen in the fact that **polyfit** line does exhibit a much sharper slope compared to the other scatterplots shown in this report. "
   ]
  },
  {
   "cell_type": "markdown",
   "metadata": {},
   "source": [
    "### 8(c). Assessing the overall correlations of all variables to one another: "
   ]
  },
  {
   "cell_type": "markdown",
   "metadata": {},
   "source": [
    "We also wanted to see, in a broader sense, the **overall correlations** the variables in our DataFrame had to one another. \n",
    "\n",
    "We did this by constructing a **correlation matrix** using the `seaborn` (`sns`) package: \n",
    "This is to assess the various correlations of income to the average price levels and the number (**not the proportion**) of restaurants at various price levels: "
   ]
  },
  {
   "cell_type": "code",
   "execution_count": 30,
   "metadata": {
    "scrolled": false
   },
   "outputs": [
    {
     "data": {
      "text/plain": [
       "<matplotlib.axes._subplots.AxesSubplot at 0x1a236e6400>"
      ]
     },
     "execution_count": 30,
     "metadata": {},
     "output_type": "execute_result"
    },
    {
     "data": {
      "image/png": "[encoded data removed]",
      "text/plain": [
       "<Figure size 720x576 with 2 Axes>"
      ]
     },
     "metadata": {},
     "output_type": "display_data"
    }
   ],
   "source": [
    "fig, ax = plt.subplots(figsize = (10,8))\n",
    "corr = restaurants1.corr()\n",
    "sns.heatmap(corr, mask = np.zeros_like(corr, dtype=np.bool), cmap = sns.diverging_palette(220,10,as_cmap=True),\n",
    "           square = True,ax=ax)"
   ]
  },
  {
   "cell_type": "markdown",
   "metadata": {},
   "source": [
    "#### A summary of the relevant factors and their correlation with income: "
   ]
  },
  {
   "cell_type": "code",
   "execution_count": 45,
   "metadata": {
    "scrolled": false
   },
   "outputs": [
    {
     "data": {
      "text/plain": [
       "Cheap                 -0.081347\n",
       "Moderate              -0.035155\n",
       "Pricey                 0.126223\n",
       "Expensive              0.126657\n",
       "Total                 -0.001021\n",
       "Average Price Level    0.230947\n",
       "Name: Income, dtype: float64"
      ]
     },
     "execution_count": 45,
     "metadata": {},
     "output_type": "execute_result"
    }
   ],
   "source": [
    "res_corr = restaurants1.corr()\n",
    "#We can disregard certain columns because of duplicates\n",
    "res_corr = res_corr['Income']\n",
    "\n",
    "#We can take out certain rows like 'Zip Code' and 'Income'\n",
    "res_corr[1:7]"
   ]
  },
  {
   "cell_type": "markdown",
   "metadata": {},
   "source": [
    "#### What are these two analyses for?\n",
    "\n",
    "* We constructed a general correlation matrix to assess the various correlations of income to the **average price levels** and the number (**not the proportion**) of restaurants at various price levels: "
   ]
  },
  {
   "cell_type": "markdown",
   "metadata": {},
   "source": [
    "## *Does the price level of restaurants in certain areas in Manhattan correspond with income levels?*"
   ]
  },
  {
   "cell_type": "markdown",
   "metadata": {},
   "source": [
    "**Observations**: \n",
    "\n",
    "* From all of the price levels (Cheap, Moderate, Pricey, Expensive), higher-tier restaurants (Pricey, Expensive) seem to possess a **slight, positive correlation** of around 0.13 with median income of a zip code. \n",
    "\n",
    "\n",
    "* On the other hand, the lower-tier restaurants (Cheap, Moderate) seem to have a **negative** correlation, but with **how small** those values are (-0.04 & -0.09), the correlation is essentially **non-existent**. \n",
    "\n",
    "\n",
    "* What is most interesting, is that among the variables, the one with the **highest correlation** with income is the **average price level**, which is the **weighted average** of the proportion of restaurants to the associated price level of those restaurants. \n",
    "\n"
   ]
  },
  {
   "cell_type": "markdown",
   "metadata": {},
   "source": [
    "## 9. Conclusion"
   ]
  },
  {
   "cell_type": "markdown",
   "metadata": {},
   "source": [
    "To conclude our data project and report our findings, let's go back to the questions we first established at the start of this paper: "
   ]
  },
  {
   "cell_type": "markdown",
   "metadata": {},
   "source": [
    "### (a) *Where are restaurants generally located in Manhattan?*\n",
    "Restaurants in Manhattan are heavily concentrated in the **areas below Central Park.**\n",
    "Specifically, **Midtown and Downtown Manhattan.**"
   ]
  },
  {
   "cell_type": "markdown",
   "metadata": {},
   "source": [
    "### (b) *Where are restaurants located according to price in Manhattan?*\n",
    "#### Pricey and expensive restaurants (3 DS and up):\n",
    "Our maps in section 7 demonstrated that both pricey (3 DS) restaurants and expensive (4 DS restaurants) seem to have a **greater concentration** in the Downtown area, most concentrated in zip code 10019, which is **Central Park South**, **Columbus Circle**, and **Hell's Kitchen**. This makes sense given that these areas have many expensive hotels and are associated with high income populations.\n",
    "\n",
    "\n",
    "#### Cheap and moderate restaurants (1-2 DS)\n",
    "Cheap (1 DS) and moderate (2 DS) restaurants are both **most concentrated** in the zipcode **10003**, where **Union Square, NoHo, East Village, and St. Marks' Place** are all located.\n",
    "\n",
    "Specifically, cheap (1 DS) restaurants are also very concentrated in the zip code **10002**, which is **Lower East Side**, where Chinatown is location, which has many smaller, road-side shops."
   ]
  },
  {
   "cell_type": "markdown",
   "metadata": {},
   "source": [
    "### (c) *Does the price level of restaurants in certain areas in Manhattan correspond with income levels?*\n",
    "*Based on the variety of methods we used to attempt to establish a correlation between income and price levels, we believe that there is no **significant relationship or correlation** between the **price levels** of restaurants in a zip code area of Manhattan, to that zip code area's **median income**. *\n",
    "\n",
    "\n",
    "*In practical terms, this means that the general **income level** of certain areas in Manhattan **do not primarily influence** the type and price level of restaurants in that area.*"
   ]
  },
  {
   "cell_type": "markdown",
   "metadata": {},
   "source": [
    "### *(d) Limitations of the analysis*\n",
    "This project was intended to serve as a preliminary look into the distribution of restaurants. While it paints a visual picture of the distribution of restaurants, we were bound by several limitations:\n",
    "\n",
    "* Yelp open data has a search limit, and not *all* restaurants and cafes are registered as business entities on Yelp. While we continuously changed our search queries to get more data (See Appendix), we still do not have every single restaurant in Manhattan:\n",
    "    * This may have skewed our dataset, as some areas did not have as many restaurants as others. For instance, zip code 10032 (Washington Heights), only yielded one result from the Yelp API, which was a 1 DS restaurant. \n",
    "    * If we would use this method, combined with a larger and more comprehensive dataset in any future inquiries, would allow us to paint a more informed and holistic representation of the distribution of restaurants.\n",
    "    \n",
    "    \n",
    "* We also mentioned in the analysis that it would be useful to add an analysis adjusted by restaurant density. This is because some zip codes are drastically larger than others, therefore doing a density column (# of given price level restaurant/total area of the zip code) would be helpful in plotting the maps. However, the data one zip code area sizes was hard to come by, so we passed on the analysis.\n",
    "\n",
    "\n",
    "* We think a range of other factors (besides income) could also have implications on restaurant distribution. For instance, the real estate rent could affect average restaurants price levels of the areas. Due to time and space constraints, we left this analysis out, but this could be examined further in the future."
   ]
  },
  {
   "cell_type": "markdown",
   "metadata": {},
   "source": [
    "### Thanks for reading!"
   ]
  }
 ],
 "metadata": {
  "kernelspec": {
   "display_name": "Python 3",
   "language": "python",
   "name": "python3"
  },
  "language_info": {
   "codemirror_mode": {
    "name": "ipython",
    "version": 3
   },
   "file_extension": ".py",
   "mimetype": "text/x-python",
   "name": "python",
   "nbconvert_exporter": "python",
   "pygments_lexer": "ipython3",
   "version": "3.6.5"
  }
 },
 "nbformat": 4,
 "nbformat_minor": 2
}
